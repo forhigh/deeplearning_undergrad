{
  "cells": [
    {
      "cell_type": "markdown",
      "metadata": {
        "id": "view-in-github",
        "colab_type": "text"
      },
      "source": [
        "<a href=\"https://colab.research.google.com/github/forhigh/deeplearning_undergrad/blob/main/%5Bcomplete%5Dlab_03_1_Linear_Regression_Python.ipynb\" target=\"_parent\"><img src=\"https://colab.research.google.com/assets/colab-badge.svg\" alt=\"Open In Colab\"/></a>"
      ]
    },
    {
      "cell_type": "markdown",
      "metadata": {
        "id": "FWqzGoFKNog3"
      },
      "source": [
        "# 모두의 딥러닝 5장. 선형 회귀 모델: 먼저 긋고 수정하기\n",
        "https://github.com/taehojo/deeplearning"
      ]
    },
    {
      "cell_type": "markdown",
      "metadata": {
        "id": "73wqHOA3Nog6"
      },
      "source": [
        "## 2. 파이썬 코딩으로 확인하는 선형 회귀"
      ]
    },
    {
      "cell_type": "markdown",
      "metadata": {
        "id": "CxsIMQlKNog7"
      },
      "source": [
        "### 1.환경 준비"
      ]
    },
    {
      "cell_type": "code",
      "execution_count": null,
      "metadata": {
        "id": "fGhzzQnbNog7"
      },
      "outputs": [],
      "source": [
        "import numpy as np\n",
        "import matplotlib.pyplot as plt"
      ]
    },
    {
      "cell_type": "markdown",
      "metadata": {
        "id": "QYqG2UcKNog8"
      },
      "source": [
        "### 2. 데이터 준비"
      ]
    },
    {
      "cell_type": "code",
      "execution_count": null,
      "metadata": {
        "id": "8gslp47hNog9"
      },
      "outputs": [],
      "source": [
        "# 공부 시간 X와 성적 y의 넘파이 배열을 만듭니다.\n",
        "x = np.array([2, 4, 6, 8])\n",
        "y = np.array([81, 93, 91, 97]) "
      ]
    },
    {
      "cell_type": "markdown",
      "metadata": {
        "id": "s_fcWDvkNog-"
      },
      "source": [
        "### 3. 데이터 분포 확인"
      ]
    },
    {
      "cell_type": "code",
      "execution_count": null,
      "metadata": {
        "id": "gtH1o7jzNog-",
        "outputId": "5c5c981b-b178-4984-ae9d-13ee29f1192e",
        "colab": {
          "base_uri": "https://localhost:8080/",
          "height": 265
        }
      },
      "outputs": [
        {
          "output_type": "display_data",
          "data": {
            "text/plain": [
              "<Figure size 432x288 with 1 Axes>"
            ],
            "image/png": "[encoded data removed]"
          },
          "metadata": {
            "needs_background": "light"
          }
        }
      ],
      "source": [
        "# 데이터의 분포를 그래프로 나타냅니다.\n",
        "plt.scatter(x, y)\n",
        "plt.show()"
      ]
    },
    {
      "cell_type": "markdown",
      "metadata": {
        "id": "Z1rvgowKNog_"
      },
      "source": [
        "### 4. 실행을 위한 변수 설정"
      ]
    },
    {
      "cell_type": "code",
      "execution_count": null,
      "metadata": {
        "id": "Mi46BZrFNohA"
      },
      "outputs": [],
      "source": [
        "# 기울기 a와 절편 b의 값을 초기화합니다.\n",
        "a = 0\n",
        "b = 0\n",
        "\n",
        "# 학습률을 정합니다.\n",
        "lr = 0.03\n",
        "\n",
        "# 몇 번 반복될지 설정합니다. \n",
        "epochs = 2001 "
      ]
    },
    {
      "cell_type": "markdown",
      "metadata": {
        "id": "YwB8fLCJNohA"
      },
      "source": [
        "### 5. 경사 하강법"
      ]
    },
    {
      "cell_type": "code",
      "execution_count": null,
      "metadata": {
        "id": "f_1tWFLXNohA",
        "outputId": "3bd3f5a8-1d84-45cc-b6da-040b8f04ef28",
        "colab": {
          "base_uri": "https://localhost:8080/"
        }
      },
      "outputs": [
        {
          "output_type": "stream",
          "name": "stdout",
          "text": [
            "epoch=0, 기울기=27.8400, 절편=5.4300\n",
            "epoch=100, 기울기=7.0739, 절편=50.5117\n",
            "epoch=200, 기울기=4.0960, 절편=68.2822\n",
            "epoch=300, 기울기=2.9757, 절편=74.9678\n",
            "epoch=400, 기울기=2.5542, 절편=77.4830\n",
            "epoch=500, 기울기=2.3956, 절편=78.4293\n",
            "epoch=600, 기울기=2.3360, 절편=78.7853\n",
            "epoch=700, 기울기=2.3135, 절편=78.9192\n",
            "epoch=800, 기울기=2.3051, 절편=78.9696\n",
            "epoch=900, 기울기=2.3019, 절편=78.9886\n",
            "epoch=1000, 기울기=2.3007, 절편=78.9957\n",
            "epoch=1100, 기울기=2.3003, 절편=78.9984\n",
            "epoch=1200, 기울기=2.3001, 절편=78.9994\n",
            "epoch=1300, 기울기=2.3000, 절편=78.9998\n",
            "epoch=1400, 기울기=2.3000, 절편=78.9999\n",
            "epoch=1500, 기울기=2.3000, 절편=79.0000\n",
            "epoch=1600, 기울기=2.3000, 절편=79.0000\n",
            "epoch=1700, 기울기=2.3000, 절편=79.0000\n",
            "epoch=1800, 기울기=2.3000, 절편=79.0000\n",
            "epoch=1900, 기울기=2.3000, 절편=79.0000\n",
            "epoch=2000, 기울기=2.3000, 절편=79.0000\n"
          ]
        }
      ],
      "source": [
        "# x 값이 총 몇 개인지 셉니다.\n",
        "n=len(x)\n",
        "\n",
        "# 경사 하강법을 시작합니다.\n",
        "for i in range(epochs):                  # 에포크 수 만큼 반복\n",
        "    \n",
        "    y_pred = a * x + b                   # 예측 값을 구하는 식입니다. \n",
        "    error = y - y_pred                   # 실제 값과 비교한 오차를 error로 놓습니다.\n",
        "    \n",
        "    a_diff = (2/n) * sum(-x * (error))   # 오차 함수를 a로 편미분한 값입니다. \n",
        "    b_diff = (2/n) * sum(-(error))       # 오차 함수를 b로 편미분한 값입니다. \n",
        "    \n",
        "    a = a - lr * a_diff     # 학습률을 곱해 기존의 a 값을 업데이트합니다.\n",
        "    b = b - lr * b_diff     # 학습률을 곱해 기존의 b 값을 업데이트합니다.\n",
        "    \n",
        "    if i % 100 == 0:        # 100번 반복될 때마다 현재의 a 값, b 값을 출력합니다.\n",
        "        print(\"epoch=%.f, 기울기=%.04f, 절편=%.04f\" % (i, a, b))        "
      ]
    },
    {
      "cell_type": "markdown",
      "metadata": {
        "id": "wHAzkYKCNohB"
      },
      "source": [
        "### 6. 그래프 확인 "
      ]
    },
    {
      "cell_type": "code",
      "execution_count": null,
      "metadata": {
        "id": "PGDjMwrBNohB",
        "outputId": "a8b28afd-5011-4a5e-b595-6c8b303d0991",
        "colab": {
          "base_uri": "https://localhost:8080/",
          "height": 265
        }
      },
      "outputs": [
        {
          "output_type": "display_data",
          "data": {
            "text/plain": [
              "<Figure size 432x288 with 1 Axes>"
            ],
            "image/png": "[encoded data removed]"
          },
          "metadata": {
            "needs_background": "light"
          }
        }
      ],
      "source": [
        "# 앞서 구한 최종 a 값을 기울기, b 값을 y 절편에 대입하여 그래프를 그립니다.\n",
        "y_pred = a * x + b      \n",
        "\n",
        "# 그래프 출력\n",
        "plt.scatter(x, y)\n",
        "plt.plot(x, y_pred,'r')\n",
        "plt.show()"
      ]
    },
    {
      "cell_type": "markdown",
      "metadata": {
        "id": "aDNdyuOxNohC"
      },
      "source": [
        "## 4. 파이썬 코딩으로 확인하는 다중 선형 회귀"
      ]
    },
    {
      "cell_type": "markdown",
      "metadata": {
        "id": "aojjge-cNohC"
      },
      "source": [
        "### 1.환경 준비"
      ]
    },
    {
      "cell_type": "code",
      "execution_count": null,
      "metadata": {
        "id": "--sufxaFNohC"
      },
      "outputs": [],
      "source": [
        "import numpy as np\n",
        "import matplotlib.pyplot as plt"
      ]
    },
    {
      "cell_type": "markdown",
      "metadata": {
        "id": "3l4HegJiNohC"
      },
      "source": [
        "### 2. 데이터 준비"
      ]
    },
    {
      "cell_type": "code",
      "execution_count": null,
      "metadata": {
        "id": "JAIt1GQoNohD"
      },
      "outputs": [],
      "source": [
        "# 공부 시간 x1과 과외 시간 x2, 그 성적 y의 넘파이 배열을 만듭니다. \n",
        "x1 = np.array([2, 4, 6, 8])\n",
        "x2 = np.array([0, 4, 2, 3])\n",
        "y = np.array([81, 93, 91, 97]) "
      ]
    },
    {
      "cell_type": "markdown",
      "metadata": {
        "id": "UqPwVWofNohD"
      },
      "source": [
        "### 3. 데이터 분포 확인"
      ]
    },
    {
      "cell_type": "code",
      "execution_count": null,
      "metadata": {
        "id": "roHjdDH-NohD",
        "outputId": "6950fe85-6c11-48af-c64f-fce81184577d",
        "colab": {
          "base_uri": "https://localhost:8080/",
          "height": 248
        }
      },
      "outputs": [
        {
          "output_type": "display_data",
          "data": {
            "text/plain": [
              "<Figure size 432x288 with 1 Axes>"
            ],
            "image/png": "[encoded data removed]"
          },
          "metadata": {
            "needs_background": "light"
          }
        }
      ],
      "source": [
        "# 데이터의 분포를 그래프로 나타냅니다.\n",
        "fig = plt.figure()\n",
        "ax = fig.add_subplot(111, projection='3d')\n",
        "ax.scatter3D(x1, x2, y)\n",
        "plt.show()"
      ]
    },
    {
      "cell_type": "markdown",
      "metadata": {
        "id": "lsJoilB7NohD"
      },
      "source": [
        "### 4. 실행을 위한 변수 설정"
      ]
    },
    {
      "cell_type": "code",
      "execution_count": null,
      "metadata": {
        "id": "k2lyPuywNohE"
      },
      "outputs": [],
      "source": [
        "# 기울기 a와 절편 b의 값을 초기화합니다.\n",
        "a1 = 0\n",
        "a2 = 0\n",
        "b = 0\n",
        "\n",
        "# 학습률을 정합니다.\n",
        "lr = 0.01 \n",
        "\n",
        "# 몇 번 반복될지 설정합니다.\n",
        "epochs = 2001 "
      ]
    },
    {
      "cell_type": "markdown",
      "metadata": {
        "id": "1LRCG-mlNohE"
      },
      "source": [
        "### 5. 경사 하강법"
      ]
    },
    {
      "cell_type": "code",
      "execution_count": null,
      "metadata": {
        "id": "481F8O6XNohE",
        "outputId": "6b466f9b-cf14-43a8-ccbe-d140301eb371",
        "colab": {
          "base_uri": "https://localhost:8080/"
        }
      },
      "outputs": [
        {
          "output_type": "stream",
          "name": "stdout",
          "text": [
            "epoch=0, 기울기1=9.2800, 기울기2=4.2250, 절편=1.8100\n",
            "epoch=100, 기울기1=9.5110, 기울기2=5.0270, 절편=22.9205\n",
            "epoch=200, 기울기1=7.3238, 기울기2=4.2950, 절편=37.8751\n",
            "epoch=300, 기울기1=5.7381, 기울기2=3.7489, 절편=48.7589\n",
            "epoch=400, 기울기1=4.5844, 기울기2=3.3507, 절편=56.6800\n",
            "epoch=500, 기울기1=3.7447, 기울기2=3.0608, 절편=62.4448\n",
            "epoch=600, 기울기1=3.1337, 기울기2=2.8498, 절편=66.6404\n",
            "epoch=700, 기울기1=2.6890, 기울기2=2.6962, 절편=69.6938\n",
            "epoch=800, 기울기1=2.3653, 기울기2=2.5845, 절편=71.9160\n",
            "epoch=900, 기울기1=2.1297, 기울기2=2.5032, 절편=73.5333\n",
            "epoch=1000, 기울기1=1.9583, 기울기2=2.4440, 절편=74.7103\n",
            "epoch=1100, 기울기1=1.8336, 기울기2=2.4009, 절편=75.5670\n",
            "epoch=1200, 기울기1=1.7428, 기울기2=2.3695, 절편=76.1904\n",
            "epoch=1300, 기울기1=1.6767, 기울기2=2.3467, 절편=76.6441\n",
            "epoch=1400, 기울기1=1.6286, 기울기2=2.3301, 절편=76.9743\n",
            "epoch=1500, 기울기1=1.5936, 기울기2=2.3180, 절편=77.2146\n",
            "epoch=1600, 기울기1=1.5681, 기울기2=2.3092, 절편=77.3895\n",
            "epoch=1700, 기울기1=1.5496, 기울기2=2.3028, 절편=77.5168\n",
            "epoch=1800, 기울기1=1.5361, 기울기2=2.2982, 절편=77.6095\n",
            "epoch=1900, 기울기1=1.5263, 기울기2=2.2948, 절편=77.6769\n",
            "epoch=2000, 기울기1=1.5191, 기울기2=2.2923, 절편=77.7260\n"
          ]
        }
      ],
      "source": [
        "# x 값이 총 몇 개인지 셉니다. x1과 x2의 수가 같으므로 x1만 세겠습니다. \n",
        "n=len(x1)\n",
        "\n",
        "# 경사 하강법을 시작합니다.\n",
        "for i in range(epochs):                  # 에포크 수 만큼 반복\n",
        "    \n",
        "    y_pred = a1 * x1 + a2 * x2 + b       # 예측 값을 구하는 식을 세웁니다\n",
        "    error = y - y_pred                   # 실제 값과 비교한 오차를 error로 놓습니다.\n",
        "    \n",
        "    a1_diff = (2/n) * sum(-x1 * (error)) # 오차 함수를 a1로 편미분한 값입니다. \n",
        "    a2_diff = (2/n) * sum(-x2 * (error)) # 오차 함수를 a2로 편미분한 값입니다. \n",
        "    b_diff = (2/n) * sum(-(error))       # 오차 함수를 b로 편미분한 값입니다. \n",
        "    \n",
        "    a1 = a1 - lr * a1_diff  # 학습률을 곱해 기존의 a1 값을 업데이트합니다.\n",
        "    a2 = a2 - lr * a2_diff  # 학습률을 곱해 기존의 a2 값을 업데이트합니다.\n",
        "    b = b - lr * b_diff     # 학습률을 곱해 기존의 b 값을 업데이트합니다.\n",
        "    \n",
        "    if i % 100 == 0:        # 100번 반복될 때마다 현재의 a1, a2, b 값을 출력합니다.\n",
        "        print(\"epoch=%.f, 기울기1=%.04f, 기울기2=%.04f, 절편=%.04f\" % (i, a1, a2, b))        "
      ]
    },
    {
      "cell_type": "code",
      "execution_count": null,
      "metadata": {
        "id": "bTHqoVZWNohE",
        "outputId": "ce970abe-1e23-44a5-df20-9d69c97684e1",
        "colab": {
          "base_uri": "https://localhost:8080/"
        }
      },
      "outputs": [
        {
          "output_type": "stream",
          "name": "stdout",
          "text": [
            "실제 점수: [81 93 91 97]\n",
            "예측 점수: [80.76387645 92.97153922 91.42520875 96.7558749 ]\n"
          ]
        }
      ],
      "source": [
        "# 실제 점수와 예측된 점수를 출력합니다.\n",
        "print(\"실제 점수:\", y)\n",
        "print(\"예측 점수:\", y_pred)"
      ]
    }
  ],
  "metadata": {
    "colab": {
      "provenance": [],
      "include_colab_link": true
    },
    "kernelspec": {
      "display_name": "Python 3 (ipykernel)",
      "language": "python",
      "name": "python3"
    },
    "language_info": {
      "codemirror_mode": {
        "name": "ipython",
        "version": 3
      },
      "file_extension": ".py",
      "mimetype": "text/x-python",
      "name": "python",
      "nbconvert_exporter": "python",
      "pygments_lexer": "ipython3",
      "version": "3.9.7"
    }
  },
  "nbformat": 4,
  "nbformat_minor": 0
}