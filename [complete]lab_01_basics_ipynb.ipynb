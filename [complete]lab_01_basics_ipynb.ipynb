{
  "cells": [
    {
      "cell_type": "markdown",
      "metadata": {
        "id": "view-in-github",
        "colab_type": "text"
      },
      "source": [
        "<a href=\"https://colab.research.google.com/github/forhigh/deeplearning_undergrad/blob/main/%5Bcomplete%5Dlab_01_basics_ipynb.ipynb\" target=\"_parent\"><img src=\"https://colab.research.google.com/assets/colab-badge.svg\" alt=\"Open In Colab\"/></a>"
      ]
    },
    {
      "cell_type": "markdown",
      "metadata": {
        "id": "GYfYz28eksWJ"
      },
      "source": [
        "# Getting Started With TensorFlow\n",
        "Modified from https://www.tensorflow.org/get_started/get_started (inactive)"
      ]
    },
    {
      "cell_type": "markdown",
      "metadata": {
        "id": "2aNQmFJDksWL"
      },
      "source": [
        "## Check TF version"
      ]
    },
    {
      "cell_type": "code",
      "execution_count": null,
      "metadata": {
        "id": "gRQfnksYksWM",
        "outputId": "05476c5d-e829-447a-d07e-e5b696654802",
        "colab": {
          "base_uri": "https://localhost:8080/",
          "height": 35
        }
      },
      "outputs": [
        {
          "output_type": "execute_result",
          "data": {
            "text/plain": [
              "'2.9.2'"
            ],
            "application/vnd.google.colaboratory.intrinsic+json": {
              "type": "string"
            }
          },
          "metadata": {},
          "execution_count": 1
        }
      ],
      "source": [
        "import tensorflow as tf\n",
        "tf.__version__"
      ]
    },
    {
      "cell_type": "markdown",
      "metadata": {
        "id": "xYfCmpT2ksWN"
      },
      "source": [
        "## Hello TensorFlow!"
      ]
    },
    {
      "cell_type": "code",
      "execution_count": null,
      "metadata": {
        "id": "k3U8oQCPksWN",
        "outputId": "26f760a6-a21d-4fab-f6f9-135f30af92b3",
        "colab": {
          "base_uri": "https://localhost:8080/"
        }
      },
      "outputs": [
        {
          "output_type": "stream",
          "name": "stdout",
          "text": [
            "Hello, TensorFlow!\n"
          ]
        }
      ],
      "source": [
        "# Create a constant op\n",
        "# This op is added as a node to the default graph\n",
        "hello = tf.constant(\"Hello, TensorFlow!\")\n",
        "\n",
        "# print result\n",
        "tf.print(hello)"
      ]
    },
    {
      "cell_type": "markdown",
      "metadata": {
        "id": "apcCLD37ksWN"
      },
      "source": [
        "## Tensors"
      ]
    },
    {
      "cell_type": "code",
      "execution_count": null,
      "metadata": {
        "id": "odEzWgAQksWO",
        "outputId": "04d4353f-3665-4593-865b-7e4d4d8badde",
        "colab": {
          "base_uri": "https://localhost:8080/"
        }
      },
      "outputs": [
        {
          "output_type": "execute_result",
          "data": {
            "text/plain": [
              "[[[1.0, 2.0, 3.0]], [[7.0, 8.0, 9.0]]]"
            ]
          },
          "metadata": {},
          "execution_count": 9
        }
      ],
      "source": [
        "3 # a rank 0 tensor; this is a scalar with shape []\n",
        "[1. ,2., 3.] # a rank 1 tensor; this is a vector with shape [3]\n",
        "[[1., 2., 3.], [4., 5., 6.]] # a rank 2 tensor; a matrix with shape [2, 3]\n",
        "[[[1., 2., 3.]], [[7., 8., 9.]]] # a rank 3 tensor with shape [2, 1, 3]"
      ]
    },
    {
      "cell_type": "markdown",
      "metadata": {
        "id": "uBWexP3cksWO"
      },
      "source": [
        "## Computation"
      ]
    },
    {
      "cell_type": "code",
      "execution_count": null,
      "metadata": {
        "id": "P0PeiTm2ksWO"
      },
      "outputs": [],
      "source": [
        "node1 = tf.constant(3.0, tf.float32)\n",
        "node2 = tf.constant(4.0) # also tf.float32 implicitly\n",
        "node3 = tf.add(node1, node2)"
      ]
    },
    {
      "cell_type": "code",
      "execution_count": null,
      "metadata": {
        "scrolled": true,
        "id": "9-F_NKzeksWO",
        "outputId": "abd2544d-f662-4a2e-f069-e379a866de84",
        "colab": {
          "base_uri": "https://localhost:8080/"
        }
      },
      "outputs": [
        {
          "output_type": "stream",
          "name": "stdout",
          "text": [
            "node1: tf.Tensor(3.0, shape=(), dtype=float32) node2: tf.Tensor(4.0, shape=(), dtype=float32)\n",
            "node3:  tf.Tensor(7.0, shape=(), dtype=float32)\n"
          ]
        }
      ],
      "source": [
        "print(\"node1:\", node1, \"node2:\", node2)\n",
        "print(\"node3: \", node3)"
      ]
    },
    {
      "cell_type": "code",
      "execution_count": null,
      "metadata": {
        "scrolled": true,
        "id": "zTXSSa5QksWP",
        "outputId": "985b656f-d479-4e07-c61b-1ea0a6565349",
        "colab": {
          "base_uri": "https://localhost:8080/"
        }
      },
      "outputs": [
        {
          "output_type": "stream",
          "name": "stdout",
          "text": [
            "[node1, node2]:  [3, 4]\n",
            "node3:  7\n"
          ]
        }
      ],
      "source": [
        "tf.print(\"[node1, node2]: \", [node1, node2])\n",
        "tf.print(\"node3: \", node3)"
      ]
    },
    {
      "cell_type": "code",
      "execution_count": null,
      "metadata": {
        "id": "WQqVMuCVksWQ",
        "outputId": "8c617ef0-d630-423c-b200-07419a0cfa24",
        "colab": {
          "base_uri": "https://localhost:8080/"
        }
      },
      "outputs": [
        {
          "output_type": "stream",
          "name": "stdout",
          "text": [
            "tf.Tensor(5.5, shape=(), dtype=float32)\n",
            "tf.Tensor([4.  5.  5.5], shape=(3,), dtype=float32)\n"
          ]
        }
      ],
      "source": [
        "a = tf.Variable(1.0, dtype=tf.float32)\n",
        "b = tf.Variable(4.5, dtype=tf.float32)\n",
        "\n",
        "adder_node1 = a + b\n",
        "\n",
        "print(adder_node1)\n",
        "\n",
        "c = tf.Variable([1, 1, 1], dtype=tf.float32)\n",
        "d = tf.constant([3, 4, 4.5], dtype=tf.float32)\n",
        "\n",
        "adder_node2 = tf.add(c, d)\n",
        "\n",
        "print(adder_node2)"
      ]
    },
    {
      "cell_type": "code",
      "execution_count": null,
      "metadata": {
        "id": "X5DKnGcdksWQ",
        "outputId": "6eed4005-f913-4442-aa21-4c8f0554b902",
        "colab": {
          "base_uri": "https://localhost:8080/"
        }
      },
      "outputs": [
        {
          "output_type": "stream",
          "name": "stdout",
          "text": [
            "tf.Tensor(16.5, shape=(), dtype=float32)\n",
            "tf.Tensor([12.  15.  16.5], shape=(3,), dtype=float32)\n"
          ]
        }
      ],
      "source": [
        "add_and_triple1 = adder_node1 * 3.\n",
        "add_and_triple2 = adder_node2 * 3.\n",
        "\n",
        "print(add_and_triple1)\n",
        "print(add_and_triple2)"
      ]
    }
  ],
  "metadata": {
    "kernelspec": {
      "display_name": "Python 3",
      "language": "python",
      "name": "python3"
    },
    "language_info": {
      "codemirror_mode": {
        "name": "ipython",
        "version": 3
      },
      "file_extension": ".py",
      "mimetype": "text/x-python",
      "name": "python",
      "nbconvert_exporter": "python",
      "pygments_lexer": "ipython3",
      "version": "3.6.0"
    },
    "colab": {
      "provenance": [],
      "collapsed_sections": [],
      "include_colab_link": true
    }
  },
  "nbformat": 4,
  "nbformat_minor": 0
}