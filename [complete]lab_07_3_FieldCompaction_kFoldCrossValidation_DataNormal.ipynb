{
  "nbformat": 4,
  "nbformat_minor": 0,
  "metadata": {
    "colab": {
      "provenance": [],
      "authorship_tag": "ABX9TyMIUdeoHfcMA8f51VeGz1Tu",
      "include_colab_link": true
    },
    "kernelspec": {
      "name": "python3",
      "display_name": "Python 3"
    },
    "language_info": {
      "name": "python"
    }
  },
  "cells": [
    {
      "cell_type": "markdown",
      "metadata": {
        "id": "view-in-github",
        "colab_type": "text"
      },
      "source": [
        "<a href=\"https://colab.research.google.com/github/forhigh/deeplearning_undergrad/blob/main/%5Bcomplete%5Dlab_07_3_FieldCompaction_kFoldCrossValidation_DataNormal.ipynb\" target=\"_parent\"><img src=\"https://colab.research.google.com/assets/colab-badge.svg\" alt=\"Open In Colab\"/></a>"
      ]
    },
    {
      "cell_type": "markdown",
      "source": [
        "# Lab_07_3 Deep Neural Nets\n",
        "Field Compaction of Open-Graded Aggregates k-Fold Cross Validation</l>   \n",
        "Dataset Normalized"
      ],
      "metadata": {
        "id": "fTq3zeQdC5Jk"
      }
    },
    {
      "cell_type": "markdown",
      "source": [
        "환경 준비"
      ],
      "metadata": {
        "id": "xqeHPku_DrgZ"
      }
    },
    {
      "cell_type": "code",
      "execution_count": 29,
      "metadata": {
        "id": "9oBxvCoyC2PU"
      },
      "outputs": [],
      "source": [
        "from tensorflow.keras.models import Sequential # 전체 라이브러리 중 일부 모듈만 호출\n",
        "from tensorflow.keras.layers import Dense\n",
        "import tensorflow as tf\n",
        "from sklearn.model_selection import KFold\n",
        "from sklearn.metrics import accuracy_score\n",
        "import numpy as np"
      ]
    },
    {
      "cell_type": "markdown",
      "source": [
        "데이터 준비"
      ],
      "metadata": {
        "id": "uL4TTDVZDvEX"
      }
    },
    {
      "cell_type": "code",
      "source": [
        "from google.colab import drive\n",
        "drive.mount('/content/gdrive')\n",
        "\n",
        "Data_set = np.loadtxt(\"/content/gdrive/My Drive/Colab Notebooks/FieldCompaction1.csv\", delimiter=',', dtype=np.float32)\n",
        "Xr = Data_set[:, 0:2]\n",
        "Yr = Data_set[:, 2:5]"
      ],
      "metadata": {
        "colab": {
          "base_uri": "https://localhost:8080/"
        },
        "id": "dgFulJunDxLE",
        "outputId": "52a982f1-3bb0-4ac6-8046-9d0ad7990cfd"
      },
      "execution_count": 30,
      "outputs": [
        {
          "output_type": "stream",
          "name": "stdout",
          "text": [
            "Drive already mounted at /content/gdrive; to attempt to forcibly remount, call drive.mount(\"/content/gdrive\", force_remount=True).\n"
          ]
        }
      ]
    },
    {
      "cell_type": "markdown",
      "source": [
        "Input 데이터 정규화"
      ],
      "metadata": {
        "id": "4AC1Pz9_xHlR"
      }
    },
    {
      "cell_type": "code",
      "source": [
        "# Normalize input dataset X\n",
        "\n",
        "X1 = [(Xr[:, 0]/5), (Xr[:, 1]/12)]\n",
        "X = np.transpose(X1)\n",
        "Y = Yr\n",
        "\n",
        "# mean = X.mean(axis=0)\n",
        "# std = X.std(axis=0)\n",
        "# X = (X - mean) / std"
      ],
      "metadata": {
        "colab": {
          "base_uri": "https://localhost:8080/"
        },
        "id": "-1g3IH5yng4m",
        "outputId": "dc7d71b0-de0e-4100-9513-49dae4a21b8d"
      },
      "execution_count": 40,
      "outputs": [
        {
          "output_type": "execute_result",
          "data": {
            "text/plain": [
              "<tf.Tensor: shape=(2,), dtype=int32, numpy=array([80,  2], dtype=int32)>"
            ]
          },
          "metadata": {},
          "execution_count": 40
        }
      ]
    },
    {
      "cell_type": "code",
      "source": [
        "k = 5\n",
        "kfold = KFold(n_splits=k, shuffle=True) # KFold 함수 호출, 데이터셋 shuffle\n",
        "\n",
        "acc_score = [] # 정확도(혹은 Loss)를 위한 빈 리스트 준비"
      ],
      "metadata": {
        "id": "kyZarAuLPCcI"
      },
      "execution_count": 41,
      "outputs": []
    },
    {
      "cell_type": "markdown",
      "source": [
        "딥러닝 모델 정의"
      ],
      "metadata": {
        "id": "W1p2SpejQs2Z"
      }
    },
    {
      "cell_type": "code",
      "source": [
        "def model_fn():\n",
        "  model = Sequential()\n",
        "  model.add(Dense(30, input_dim=2, activation='relu'))\n",
        "  model.add(Dense(3))\n",
        "  return model"
      ],
      "metadata": {
        "id": "As03Q157Qxfr"
      },
      "execution_count": 42,
      "outputs": []
    },
    {
      "cell_type": "markdown",
      "source": [
        "k-fold cross valication (k겹 교차 검증) 학습 수행"
      ],
      "metadata": {
        "id": "90dVZLB7q7Ik"
      }
    },
    {
      "cell_type": "code",
      "source": [
        "for train_index, test_index in kfold.split(X):\n",
        "  X_train, X_test = X[train_index,:], X[test_index,:]\n",
        "  Y_train, Y_test = Y[train_index,:], Y[test_index,:]\n",
        "\n",
        "  model = model_fn()\n",
        "  model.compile(loss='mean_squared_error', optimizer='adam')\n",
        "  history = model.fit(X_train, Y_train, epochs=2000, verbose=0)\n",
        "\n",
        "  accuracy = model.evaluate(X_test, Y_test)\n",
        "  acc_score.append(accuracy) # 정확도(혹은 Loss) 리스트에 저장"
      ],
      "metadata": {
        "colab": {
          "base_uri": "https://localhost:8080/"
        },
        "id": "MqLsJD_wRoSr",
        "outputId": "bb203440-bdda-4bdd-8f42-45f61d2b72d7"
      },
      "execution_count": 43,
      "outputs": [
        {
          "output_type": "stream",
          "name": "stderr",
          "text": [
            "WARNING:tensorflow:6 out of the last 6 calls to <function Model.make_test_function.<locals>.test_function at 0x7f2f775e4c10> triggered tf.function retracing. Tracing is expensive and the excessive number of tracings could be due to (1) creating @tf.function repeatedly in a loop, (2) passing tensors with different shapes, (3) passing Python objects instead of tensors. For (1), please define your @tf.function outside of the loop. For (2), @tf.function has reduce_retracing=True option that can avoid unnecessary retracing. For (3), please refer to https://www.tensorflow.org/guide/function#controlling_retracing and https://www.tensorflow.org/api_docs/python/tf/function for  more details.\n"
          ]
        },
        {
          "output_type": "stream",
          "name": "stdout",
          "text": [
            "1/1 [==============================] - 0s 88ms/step - loss: 218.4947\n",
            "1/1 [==============================] - 0s 87ms/step - loss: 191.5880\n",
            "1/1 [==============================] - 0s 77ms/step - loss: 186.1498\n",
            "1/1 [==============================] - 0s 79ms/step - loss: 249.7459\n",
            "1/1 [==============================] - 0s 86ms/step - loss: 231.7348\n"
          ]
        }
      ]
    },
    {
      "cell_type": "markdown",
      "source": [
        "정확도(혹은 손실) 평균 산정과 출력"
      ],
      "metadata": {
        "id": "5k500cYwP986"
      }
    },
    {
      "cell_type": "code",
      "source": [
        "avg_acc_score = sum(acc_score)/k\n",
        "\n",
        "print('Loss: ', acc_score)\n",
        "print('Avg Loss: ', avg_acc_score)"
      ],
      "metadata": {
        "colab": {
          "base_uri": "https://localhost:8080/"
        },
        "id": "dBGWF9qEU84N",
        "outputId": "03137981-b5c9-4d78-a41c-3cbdaee07872"
      },
      "execution_count": 7,
      "outputs": [
        {
          "output_type": "stream",
          "name": "stdout",
          "text": [
            "Loss:  [336.9862060546875, 208.46173095703125, 281.6941223144531, 403.388427734375, 215.09645080566406]\n",
            "Avg Loss:  289.12538757324216\n"
          ]
        }
      ]
    }
  ]
}