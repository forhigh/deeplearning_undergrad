{
  "nbformat": 4,
  "nbformat_minor": 0,
  "metadata": {
    "colab": {
      "provenance": [],
      "authorship_tag": "ABX9TyNoUyMgLSNkXlCFTb5pS8xM",
      "include_colab_link": true
    },
    "kernelspec": {
      "name": "python3",
      "display_name": "Python 3"
    },
    "language_info": {
      "name": "python"
    }
  },
  "cells": [
    {
      "cell_type": "markdown",
      "metadata": {
        "id": "view-in-github",
        "colab_type": "text"
      },
      "source": [
        "<a href=\"https://colab.research.google.com/github/forhigh/deeplearning_undergrad/blob/main/%5Bcomplete%5Dlab_07_4_FieldCompaction_ValidationDataset.ipynb\" target=\"_parent\"><img src=\"https://colab.research.google.com/assets/colab-badge.svg\" alt=\"Open In Colab\"/></a>"
      ]
    },
    {
      "cell_type": "markdown",
      "source": [
        "# Lab_07_4 Deep Neural Nets\n",
        "Field Compaction of Open-Graded Aggregates Validation Dataset"
      ],
      "metadata": {
        "id": "fTq3zeQdC5Jk"
      }
    },
    {
      "cell_type": "markdown",
      "source": [
        "환경 준비"
      ],
      "metadata": {
        "id": "xqeHPku_DrgZ"
      }
    },
    {
      "cell_type": "code",
      "execution_count": 1,
      "metadata": {
        "id": "9oBxvCoyC2PU"
      },
      "outputs": [],
      "source": [
        "from tensorflow.keras.models import Sequential # 전체 라이브러리 중 일부 모듈만 호출\n",
        "from tensorflow.keras.layers import Dense\n",
        "from sklearn.model_selection import train_test_split\n",
        "import numpy as np"
      ]
    },
    {
      "cell_type": "markdown",
      "source": [
        "데이터 준비, 정규화, Training/Testing 데이터셋 구분"
      ],
      "metadata": {
        "id": "uL4TTDVZDvEX"
      }
    },
    {
      "cell_type": "code",
      "source": [
        "from google.colab import drive\n",
        "drive.mount('/content/gdrive')\n",
        "\n",
        "Data_set = np.loadtxt(\"/content/gdrive/My Drive/Colab Notebooks/FieldCompaction1.csv\", delimiter=',', dtype=np.float32)\n",
        "X = Data_set[:, 0:2]\n",
        "Y = Data_set[:, 2:5]\n",
        "\n",
        "# Normalize input dataset X\n",
        "mean = X.mean(axis=0)\n",
        "std = X.std(axis=0)\n",
        "X = (X - mean) / std\n",
        "\n",
        "# Split dataset into training and testing datasets\n",
        "X_train, X_test, Y_train, Y_test = train_test_split(X, Y, test_size=0.2, shuffle=True)"
      ],
      "metadata": {
        "colab": {
          "base_uri": "https://localhost:8080/"
        },
        "id": "dgFulJunDxLE",
        "outputId": "4cad4bd0-be84-4976-e3bd-dac7af6eddb5"
      },
      "execution_count": 2,
      "outputs": [
        {
          "output_type": "stream",
          "name": "stdout",
          "text": [
            "Mounted at /content/gdrive\n"
          ]
        }
      ]
    },
    {
      "cell_type": "markdown",
      "source": [
        "딥러닝 모델 구조 설정"
      ],
      "metadata": {
        "id": "W1p2SpejQs2Z"
      }
    },
    {
      "cell_type": "code",
      "source": [
        "model = Sequential()\n",
        "model.add(Dense(30, input_dim=2, activation='relu'))\n",
        "model.add(Dense(3))\n",
        "model.summary()"
      ],
      "metadata": {
        "id": "As03Q157Qxfr",
        "colab": {
          "base_uri": "https://localhost:8080/"
        },
        "outputId": "1cd5336d-99b9-4035-d826-40f6bf4fb3df"
      },
      "execution_count": 3,
      "outputs": [
        {
          "output_type": "stream",
          "name": "stdout",
          "text": [
            "Model: \"sequential\"\n",
            "_________________________________________________________________\n",
            " Layer (type)                Output Shape              Param #   \n",
            "=================================================================\n",
            " dense (Dense)               (None, 30)                90        \n",
            "                                                                 \n",
            " dense_1 (Dense)             (None, 3)                 93        \n",
            "                                                                 \n",
            "=================================================================\n",
            "Total params: 183\n",
            "Trainable params: 183\n",
            "Non-trainable params: 0\n",
            "_________________________________________________________________\n"
          ]
        }
      ]
    },
    {
      "cell_type": "markdown",
      "source": [
        "모델 컴파일, 실행, 결과 출력"
      ],
      "metadata": {
        "id": "90dVZLB7q7Ik"
      }
    },
    {
      "cell_type": "code",
      "source": [
        "model.compile(loss='mean_squared_error', optimizer='adam')\n",
        "history = model.fit(X_train, Y_train, epochs=2000, verbose=0, validation_split=0.25) # 0.8 x 0.25 = 0.2 Validation dataset 20% total\n",
        "\n",
        "score = model.evaluate(X_test, Y_test)\n",
        "print('Test Loss:', score)"
      ],
      "metadata": {
        "colab": {
          "base_uri": "https://localhost:8080/"
        },
        "id": "QLuMriWc4aLF",
        "outputId": "090f4ebb-55a0-45aa-d3aa-67316cf11294"
      },
      "execution_count": 4,
      "outputs": [
        {
          "output_type": "stream",
          "name": "stdout",
          "text": [
            "1/1 [==============================] - 0s 24ms/step - loss: 154.1073\n",
            "Test Loss: 154.1073455810547\n"
          ]
        }
      ]
    }
  ]
}