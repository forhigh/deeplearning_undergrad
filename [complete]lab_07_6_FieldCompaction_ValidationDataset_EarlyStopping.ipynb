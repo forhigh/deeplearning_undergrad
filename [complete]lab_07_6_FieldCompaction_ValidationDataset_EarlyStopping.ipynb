{
  "nbformat": 4,
  "nbformat_minor": 0,
  "metadata": {
    "colab": {
      "provenance": [],
      "toc_visible": true,
      "authorship_tag": "ABX9TyOf9RUw9PlUZhzJR5QlakM1",
      "include_colab_link": true
    },
    "kernelspec": {
      "name": "python3",
      "display_name": "Python 3"
    },
    "language_info": {
      "name": "python"
    }
  },
  "cells": [
    {
      "cell_type": "markdown",
      "metadata": {
        "id": "view-in-github",
        "colab_type": "text"
      },
      "source": [
        "<a href=\"https://colab.research.google.com/github/forhigh/deeplearning_undergrad/blob/main/%5Bcomplete%5Dlab_07_6_FieldCompaction_ValidationDataset_EarlyStopping.ipynb\" target=\"_parent\"><img src=\"https://colab.research.google.com/assets/colab-badge.svg\" alt=\"Open In Colab\"/></a>"
      ]
    },
    {
      "cell_type": "markdown",
      "source": [
        "# Lab_07_6 Deep Neural Nets\n",
        "Field Compaction of Open-Graded Aggregates Validation Dataset\n",
        "Early Stopping"
      ],
      "metadata": {
        "id": "fTq3zeQdC5Jk"
      }
    },
    {
      "cell_type": "markdown",
      "source": [
        "환경 준비"
      ],
      "metadata": {
        "id": "xqeHPku_DrgZ"
      }
    },
    {
      "cell_type": "code",
      "execution_count": 1,
      "metadata": {
        "id": "9oBxvCoyC2PU"
      },
      "outputs": [],
      "source": [
        "from tensorflow.keras.models import Sequential\n",
        "from tensorflow.keras.layers import Dense\n",
        "from sklearn.model_selection import train_test_split\n",
        "from tensorflow.keras.callbacks import ModelCheckpoint, EarlyStopping\n",
        "import pandas as pd\n",
        "import numpy as np"
      ]
    },
    {
      "cell_type": "markdown",
      "source": [
        "데이터 준비, 정규화, Training/Testing 데이터셋 구분"
      ],
      "metadata": {
        "id": "uL4TTDVZDvEX"
      }
    },
    {
      "cell_type": "code",
      "source": [
        "from google.colab import drive\n",
        "drive.mount('/content/gdrive')\n",
        "\n",
        "Data_set = np.loadtxt(\"/content/gdrive/My Drive/Colab Notebooks/FieldCompaction1.csv\", delimiter=',', dtype=np.float32)\n",
        "X = Data_set[:, 0:2]\n",
        "Y = Data_set[:, 2:5]\n",
        "\n",
        "# Normalize input dataset X\n",
        "mean = X.mean(axis=0)\n",
        "std = X.std(axis=0)\n",
        "X = (X - mean) / std\n",
        "\n",
        "# Split dataset into training and testing datasets\n",
        "X_train, X_test, Y_train, Y_test = train_test_split(X, Y, test_size=0.2, shuffle=True)"
      ],
      "metadata": {
        "colab": {
          "base_uri": "https://localhost:8080/"
        },
        "id": "dgFulJunDxLE",
        "outputId": "668fa534-36d7-4394-e778-7f06b16acecf"
      },
      "execution_count": 2,
      "outputs": [
        {
          "output_type": "stream",
          "name": "stdout",
          "text": [
            "Drive already mounted at /content/gdrive; to attempt to forcibly remount, call drive.mount(\"/content/gdrive\", force_remount=True).\n"
          ]
        }
      ]
    },
    {
      "cell_type": "markdown",
      "source": [
        "딥러닝 모델 구조 설정"
      ],
      "metadata": {
        "id": "W1p2SpejQs2Z"
      }
    },
    {
      "cell_type": "code",
      "source": [
        "model = Sequential()\n",
        "model.add(Dense(10, input_dim=2, activation='relu'))\n",
        "model.add(Dense(5, activation='relu'))\n",
        "model.add(Dense(3))\n",
        "model.summary()"
      ],
      "metadata": {
        "colab": {
          "base_uri": "https://localhost:8080/"
        },
        "outputId": "44a1fe96-bbbc-4b35-fa8f-34904cff0a5e",
        "id": "uziL1lRhNltK"
      },
      "execution_count": 3,
      "outputs": [
        {
          "output_type": "stream",
          "name": "stdout",
          "text": [
            "Model: \"sequential\"\n",
            "_________________________________________________________________\n",
            " Layer (type)                Output Shape              Param #   \n",
            "=================================================================\n",
            " dense (Dense)               (None, 10)                30        \n",
            "                                                                 \n",
            " dense_1 (Dense)             (None, 5)                 55        \n",
            "                                                                 \n",
            " dense_2 (Dense)             (None, 3)                 18        \n",
            "                                                                 \n",
            "=================================================================\n",
            "Total params: 103\n",
            "Trainable params: 103\n",
            "Non-trainable params: 0\n",
            "_________________________________________________________________\n"
          ]
        }
      ]
    },
    {
      "cell_type": "markdown",
      "source": [
        "모델 컴파일, 자동 중단 설정, 최적화 모델 저장 설정, 실행"
      ],
      "metadata": {
        "id": "90dVZLB7q7Ik"
      }
    },
    {
      "cell_type": "code",
      "source": [
        "model.compile(loss='mean_squared_error', optimizer='adam', metrics=['mean_squared_error'])\n",
        "\n",
        "# 학습 자동 중단 설정\n",
        "early_stopping_callback = EarlyStopping(monitor='val_loss', patience=20) # 검증셋의 오차가 20회 이상 낮아지지 않을 경우 학습을 종료\n",
        "\n",
        "# 최적화 모델이 저장될 폴더와 파일 이름 설정\n",
        "modelpath = \"/content/gdrive/My Drive/Colab Notebooks/Checkpoint/FieldCompaction-bestmodel.hdf5\"\n",
        "\n",
        "# 최적화 모델 저장 설정\n",
        "checkpointer = ModelCheckpoint(filepath=modelpath, monitor='val_loss', verbose=0, save_best_only=True)\n",
        "\n",
        "# 모델 실행\n",
        "history = model.fit(X_train, Y_train, epochs=5000, validation_split=0.25, verbose=0, callbacks=[early_stopping_callback,checkpointer])"
      ],
      "metadata": {
        "id": "QLuMriWc4aLF"
      },
      "execution_count": 4,
      "outputs": []
    },
    {
      "cell_type": "markdown",
      "source": [
        "테스트 결과 출력"
      ],
      "metadata": {
        "id": "VZdRR1seCnYo"
      }
    },
    {
      "cell_type": "code",
      "source": [
        "score=model.evaluate(X_test, Y_test)\n",
        "print('Test Loss:', score)"
      ],
      "metadata": {
        "colab": {
          "base_uri": "https://localhost:8080/"
        },
        "id": "9ucKUWpACnp-",
        "outputId": "c8c8bfb6-a05c-48dc-de05-ce1c3e1162c1"
      },
      "execution_count": 5,
      "outputs": [
        {
          "output_type": "stream",
          "name": "stdout",
          "text": [
            "1/1 [==============================] - 0s 25ms/step - loss: 200.8824 - mean_squared_error: 200.8824\n",
            "Test Loss: [200.88235473632812, 200.88235473632812]\n"
          ]
        }
      ]
    },
    {
      "cell_type": "markdown",
      "source": [
        "history에 저장된 학습 결과 확인\n"
      ],
      "metadata": {
        "id": "l3GIOgZvDF1C"
      }
    },
    {
      "cell_type": "code",
      "source": [
        "hist_df=pd.DataFrame(history.history)\n",
        "hist_df"
      ],
      "metadata": {
        "colab": {
          "base_uri": "https://localhost:8080/",
          "height": 424
        },
        "id": "SiJ_lhylDCvE",
        "outputId": "3086d1d1-ed24-45b5-df80-9a52001f3977"
      },
      "execution_count": 6,
      "outputs": [
        {
          "output_type": "execute_result",
          "data": {
            "text/plain": [
              "            loss  mean_squared_error     val_loss  val_mean_squared_error\n",
              "0    4991.188965         4991.188965  5253.104492             5253.104492\n",
              "1    4990.056641         4990.056641  5251.912109             5251.912109\n",
              "2    4988.905762         4988.905762  5250.713867             5250.713867\n",
              "3    4987.705078         4987.705078  5249.507812             5249.507812\n",
              "4    4986.528809         4986.528809  5248.282715             5248.282715\n",
              "..           ...                 ...          ...                     ...\n",
              "992   149.680725          149.680725   213.982864              213.982864\n",
              "993   149.644196          149.644196   213.897003              213.897003\n",
              "994   149.629196          149.629196   213.667114              213.667114\n",
              "995   149.519516          149.519516   213.525543              213.525543\n",
              "996   149.482697          149.482697   213.296021              213.296021\n",
              "\n",
              "[997 rows x 4 columns]"
            ],
            "text/html": [
              "\n",
              "  <div id=\"df-79e1deb9-81a7-4762-8d69-56efa89c268a\">\n",
              "    <div class=\"colab-df-container\">\n",
              "      <div>\n",
              "<style scoped>\n",
              "    .dataframe tbody tr th:only-of-type {\n",
              "        vertical-align: middle;\n",
              "    }\n",
              "\n",
              "    .dataframe tbody tr th {\n",
              "        vertical-align: top;\n",
              "    }\n",
              "\n",
              "    .dataframe thead th {\n",
              "        text-align: right;\n",
              "    }\n",
              "</style>\n",
              "<table border=\"1\" class=\"dataframe\">\n",
              "  <thead>\n",
              "    <tr style=\"text-align: right;\">\n",
              "      <th></th>\n",
              "      <th>loss</th>\n",
              "      <th>mean_squared_error</th>\n",
              "      <th>val_loss</th>\n",
              "      <th>val_mean_squared_error</th>\n",
              "    </tr>\n",
              "  </thead>\n",
              "  <tbody>\n",
              "    <tr>\n",
              "      <th>0</th>\n",
              "      <td>4991.188965</td>\n",
              "      <td>4991.188965</td>\n",
              "      <td>5253.104492</td>\n",
              "      <td>5253.104492</td>\n",
              "    </tr>\n",
              "    <tr>\n",
              "      <th>1</th>\n",
              "      <td>4990.056641</td>\n",
              "      <td>4990.056641</td>\n",
              "      <td>5251.912109</td>\n",
              "      <td>5251.912109</td>\n",
              "    </tr>\n",
              "    <tr>\n",
              "      <th>2</th>\n",
              "      <td>4988.905762</td>\n",
              "      <td>4988.905762</td>\n",
              "      <td>5250.713867</td>\n",
              "      <td>5250.713867</td>\n",
              "    </tr>\n",
              "    <tr>\n",
              "      <th>3</th>\n",
              "      <td>4987.705078</td>\n",
              "      <td>4987.705078</td>\n",
              "      <td>5249.507812</td>\n",
              "      <td>5249.507812</td>\n",
              "    </tr>\n",
              "    <tr>\n",
              "      <th>4</th>\n",
              "      <td>4986.528809</td>\n",
              "      <td>4986.528809</td>\n",
              "      <td>5248.282715</td>\n",
              "      <td>5248.282715</td>\n",
              "    </tr>\n",
              "    <tr>\n",
              "      <th>...</th>\n",
              "      <td>...</td>\n",
              "      <td>...</td>\n",
              "      <td>...</td>\n",
              "      <td>...</td>\n",
              "    </tr>\n",
              "    <tr>\n",
              "      <th>992</th>\n",
              "      <td>149.680725</td>\n",
              "      <td>149.680725</td>\n",
              "      <td>213.982864</td>\n",
              "      <td>213.982864</td>\n",
              "    </tr>\n",
              "    <tr>\n",
              "      <th>993</th>\n",
              "      <td>149.644196</td>\n",
              "      <td>149.644196</td>\n",
              "      <td>213.897003</td>\n",
              "      <td>213.897003</td>\n",
              "    </tr>\n",
              "    <tr>\n",
              "      <th>994</th>\n",
              "      <td>149.629196</td>\n",
              "      <td>149.629196</td>\n",
              "      <td>213.667114</td>\n",
              "      <td>213.667114</td>\n",
              "    </tr>\n",
              "    <tr>\n",
              "      <th>995</th>\n",
              "      <td>149.519516</td>\n",
              "      <td>149.519516</td>\n",
              "      <td>213.525543</td>\n",
              "      <td>213.525543</td>\n",
              "    </tr>\n",
              "    <tr>\n",
              "      <th>996</th>\n",
              "      <td>149.482697</td>\n",
              "      <td>149.482697</td>\n",
              "      <td>213.296021</td>\n",
              "      <td>213.296021</td>\n",
              "    </tr>\n",
              "  </tbody>\n",
              "</table>\n",
              "<p>997 rows × 4 columns</p>\n",
              "</div>\n",
              "      <button class=\"colab-df-convert\" onclick=\"convertToInteractive('df-79e1deb9-81a7-4762-8d69-56efa89c268a')\"\n",
              "              title=\"Convert this dataframe to an interactive table.\"\n",
              "              style=\"display:none;\">\n",
              "        \n",
              "  <svg xmlns=\"http://www.w3.org/2000/svg\" height=\"24px\"viewBox=\"0 0 24 24\"\n",
              "       width=\"24px\">\n",
              "    <path d=\"M0 0h24v24H0V0z\" fill=\"none\"/>\n",
              "    <path d=\"M18.56 5.44l.94 2.06.94-2.06 2.06-.94-2.06-.94-.94-2.06-.94 2.06-2.06.94zm-11 1L8.5 8.5l.94-2.06 2.06-.94-2.06-.94L8.5 2.5l-.94 2.06-2.06.94zm10 10l.94 2.06.94-2.06 2.06-.94-2.06-.94-.94-2.06-.94 2.06-2.06.94z\"/><path d=\"M17.41 7.96l-1.37-1.37c-.4-.4-.92-.59-1.43-.59-.52 0-1.04.2-1.43.59L10.3 9.45l-7.72 7.72c-.78.78-.78 2.05 0 2.83L4 21.41c.39.39.9.59 1.41.59.51 0 1.02-.2 1.41-.59l7.78-7.78 2.81-2.81c.8-.78.8-2.07 0-2.86zM5.41 20L4 18.59l7.72-7.72 1.47 1.35L5.41 20z\"/>\n",
              "  </svg>\n",
              "      </button>\n",
              "      \n",
              "  <style>\n",
              "    .colab-df-container {\n",
              "      display:flex;\n",
              "      flex-wrap:wrap;\n",
              "      gap: 12px;\n",
              "    }\n",
              "\n",
              "    .colab-df-convert {\n",
              "      background-color: #E8F0FE;\n",
              "      border: none;\n",
              "      border-radius: 50%;\n",
              "      cursor: pointer;\n",
              "      display: none;\n",
              "      fill: #1967D2;\n",
              "      height: 32px;\n",
              "      padding: 0 0 0 0;\n",
              "      width: 32px;\n",
              "    }\n",
              "\n",
              "    .colab-df-convert:hover {\n",
              "      background-color: #E2EBFA;\n",
              "      box-shadow: 0px 1px 2px rgba(60, 64, 67, 0.3), 0px 1px 3px 1px rgba(60, 64, 67, 0.15);\n",
              "      fill: #174EA6;\n",
              "    }\n",
              "\n",
              "    [theme=dark] .colab-df-convert {\n",
              "      background-color: #3B4455;\n",
              "      fill: #D2E3FC;\n",
              "    }\n",
              "\n",
              "    [theme=dark] .colab-df-convert:hover {\n",
              "      background-color: #434B5C;\n",
              "      box-shadow: 0px 1px 3px 1px rgba(0, 0, 0, 0.15);\n",
              "      filter: drop-shadow(0px 1px 2px rgba(0, 0, 0, 0.3));\n",
              "      fill: #FFFFFF;\n",
              "    }\n",
              "  </style>\n",
              "\n",
              "      <script>\n",
              "        const buttonEl =\n",
              "          document.querySelector('#df-79e1deb9-81a7-4762-8d69-56efa89c268a button.colab-df-convert');\n",
              "        buttonEl.style.display =\n",
              "          google.colab.kernel.accessAllowed ? 'block' : 'none';\n",
              "\n",
              "        async function convertToInteractive(key) {\n",
              "          const element = document.querySelector('#df-79e1deb9-81a7-4762-8d69-56efa89c268a');\n",
              "          const dataTable =\n",
              "            await google.colab.kernel.invokeFunction('convertToInteractive',\n",
              "                                                     [key], {});\n",
              "          if (!dataTable) return;\n",
              "\n",
              "          const docLinkHtml = 'Like what you see? Visit the ' +\n",
              "            '<a target=\"_blank\" href=https://colab.research.google.com/notebooks/data_table.ipynb>data table notebook</a>'\n",
              "            + ' to learn more about interactive tables.';\n",
              "          element.innerHTML = '';\n",
              "          dataTable['output_type'] = 'display_data';\n",
              "          await google.colab.output.renderOutput(dataTable, element);\n",
              "          const docLink = document.createElement('div');\n",
              "          docLink.innerHTML = docLinkHtml;\n",
              "          element.appendChild(docLink);\n",
              "        }\n",
              "      </script>\n",
              "    </div>\n",
              "  </div>\n",
              "  "
            ]
          },
          "metadata": {},
          "execution_count": 6
        }
      ]
    }
  ]
}