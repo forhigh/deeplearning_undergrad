{
  "cells": [
    {
      "cell_type": "markdown",
      "metadata": {
        "id": "view-in-github",
        "colab_type": "text"
      },
      "source": [
        "<a href=\"https://colab.research.google.com/github/forhigh/deeplearning_undergrad/blob/main/%5Bcomplete%5Dlab_06_1_softmax_classifier_eager.ipynb\" target=\"_parent\"><img src=\"https://colab.research.google.com/assets/colab-badge.svg\" alt=\"Open In Colab\"/></a>"
      ]
    },
    {
      "cell_type": "markdown",
      "metadata": {
        "id": "J2GzHJaEG3wz"
      },
      "source": [
        "# Lab 06-1 Softmax Classification Eager\n",
        "* Softmax를 사용하여분류를 진행합니다.\n",
        "\n",
        "### 기본 Library 선언 및 Tensorflow 버전 확인"
      ]
    },
    {
      "cell_type": "code",
      "execution_count": 1,
      "metadata": {
        "colab": {
          "base_uri": "https://localhost:8080/"
        },
        "id": "1cTeJj2eG3w1",
        "outputId": "cd0b2102-41e5-4807-ef70-efad827b11af"
      },
      "outputs": [
        {
          "output_type": "stream",
          "name": "stdout",
          "text": [
            "2.9.2\n"
          ]
        }
      ],
      "source": [
        "import tensorflow as tf\n",
        "import numpy as np\n",
        "\n",
        "print(tf.__version__)\n",
        "\n",
        "tf.random.set_seed(777)  # for reproducibility"
      ]
    },
    {
      "cell_type": "code",
      "execution_count": 2,
      "metadata": {
        "id": "53dZhyQGG3w1"
      },
      "outputs": [],
      "source": [
        "x_data = [[1, 2, 1, 1],\n",
        "          [2, 1, 3, 2],\n",
        "          [3, 1, 3, 4],\n",
        "          [4, 1, 5, 5],\n",
        "          [1, 7, 5, 5],\n",
        "          [1, 2, 5, 6],\n",
        "          [1, 6, 6, 6],\n",
        "          [1, 7, 7, 7]]\n",
        "y_data = [[0, 0, 1],\n",
        "          [0, 0, 1],\n",
        "          [0, 0, 1],\n",
        "          [0, 1, 0],\n",
        "          [0, 1, 0],\n",
        "          [0, 1, 0],\n",
        "          [1, 0, 0],\n",
        "          [1, 0, 0]]\n",
        "\n",
        "#convert into numpy and float format\n",
        "x_data = np.asarray(x_data, dtype=np.float32)\n",
        "y_data = np.asarray(y_data, dtype=np.float32)"
      ]
    },
    {
      "cell_type": "code",
      "execution_count": 3,
      "metadata": {
        "colab": {
          "base_uri": "https://localhost:8080/"
        },
        "id": "icyan39xG3w2",
        "outputId": "3f38cf0f-11d2-4d3d-999f-b87c7d88f587"
      },
      "outputs": [
        {
          "output_type": "stream",
          "name": "stdout",
          "text": [
            "(8, 4)\n",
            "(8, 3)\n"
          ]
        }
      ],
      "source": [
        "#dataset을 선언합니다.\n",
        "# dataset = tf.data.Dataset.from_tensor_slices((x_data, y_data))\n",
        "# dataset = dataset.repeat().batch(2)\n",
        "\n",
        "nb_classes = 3 #class의 개수입니다.\n",
        "\n",
        "print(x_data.shape)\n",
        "print(y_data.shape)"
      ]
    },
    {
      "cell_type": "code",
      "execution_count": 4,
      "metadata": {
        "colab": {
          "base_uri": "https://localhost:8080/"
        },
        "id": "BWCBPX4eG3w2",
        "outputId": "975bacaf-85da-4cba-9d11-8ca75eb38b0e"
      },
      "outputs": [
        {
          "output_type": "stream",
          "name": "stdout",
          "text": [
            "<tf.Variable 'weight:0' shape=(4, 3) dtype=float32, numpy=\n",
            "array([[ 0.7706481 ,  0.37335402, -0.05576323],\n",
            "       [ 0.00358377, -0.5898363 ,  1.5702795 ],\n",
            "       [ 0.2460895 , -0.09918973,  1.4418385 ],\n",
            "       [ 0.3200988 ,  0.526784  , -0.7703731 ]], dtype=float32)> <tf.Variable 'bias:0' shape=(3,) dtype=float32, numpy=array([-1.3080608 , -0.13253094,  0.5513761 ], dtype=float32)>\n"
          ]
        }
      ],
      "source": [
        "#Weight and bias setting\n",
        "W = tf.Variable(tf.random.normal((4, nb_classes)), name='weight')\n",
        "b = tf.Variable(tf.random.normal((nb_classes,)), name='bias')\n",
        "variables = [W, b]\n",
        "\n",
        "print(W,b)"
      ]
    },
    {
      "cell_type": "code",
      "execution_count": 5,
      "metadata": {
        "colab": {
          "base_uri": "https://localhost:8080/"
        },
        "id": "amKCocH1G3w2",
        "outputId": "1687ee91-7736-4e55-8c00-ae73001d890c"
      },
      "outputs": [
        {
          "output_type": "stream",
          "name": "stdout",
          "text": [
            "tf.Tensor(\n",
            "[[1.36571955e-02 7.90162291e-03 9.78441179e-01]\n",
            " [3.92597765e-02 1.70347411e-02 9.43705440e-01]\n",
            " [3.80385250e-01 1.67723149e-01 4.51891541e-01]\n",
            " [3.23390484e-01 5.90759404e-02 6.17533624e-01]\n",
            " [3.62997366e-06 6.20727221e-08 9.99996245e-01]\n",
            " [2.62520202e-02 1.07279625e-02 9.63019967e-01]\n",
            " [1.56525093e-05 4.21802724e-07 9.99983847e-01]\n",
            " [2.94076904e-06 3.81133241e-08 9.99996960e-01]], shape=(8, 3), dtype=float32)\n"
          ]
        }
      ],
      "source": [
        "# tf.nn.softmax computes softmax activations\n",
        "# softmax = exp(logits) / reduce_sum(exp(logits), dim)\n",
        "def hypothesis(X):\n",
        "    return tf.nn.softmax(tf.matmul(X, W) + b)\n",
        "\n",
        "print(hypothesis(x_data))"
      ]
    },
    {
      "cell_type": "code",
      "execution_count": 6,
      "metadata": {
        "colab": {
          "base_uri": "https://localhost:8080/"
        },
        "id": "Gn6obshEG3w2",
        "outputId": "922bfeaf-5615-425d-a19f-b53bc307ce65"
      },
      "outputs": [
        {
          "output_type": "stream",
          "name": "stdout",
          "text": [
            "tf.Tensor([[0.9302204  0.06200533 0.00777428]], shape=(1, 3), dtype=float32)\n"
          ]
        }
      ],
      "source": [
        "# Softmax onehot test\n",
        "sample_db = [[8,2,1,4]]\n",
        "sample_db = np.asarray(sample_db, dtype=np.float32)\n",
        "\n",
        "print(hypothesis(sample_db))"
      ]
    },
    {
      "cell_type": "code",
      "execution_count": 7,
      "metadata": {
        "colab": {
          "base_uri": "https://localhost:8080/"
        },
        "id": "exOmTQ7zG3w3",
        "outputId": "2e78890a-d282-40fa-da4f-55d26b5623dc"
      },
      "outputs": [
        {
          "output_type": "stream",
          "name": "stdout",
          "text": [
            "tf.Tensor(6.07932, shape=(), dtype=float32)\n"
          ]
        }
      ],
      "source": [
        "def cost_fn(X, Y):\n",
        "    logits = hypothesis(X)\n",
        "    cost = -tf.reduce_sum(Y * tf.math.log(logits), axis=1)\n",
        "    cost_mean = tf.reduce_mean(cost)\n",
        "    \n",
        "    return cost_mean\n",
        "\n",
        "print(cost_fn(x_data, y_data))"
      ]
    },
    {
      "cell_type": "code",
      "execution_count": 8,
      "metadata": {
        "colab": {
          "base_uri": "https://localhost:8080/"
        },
        "id": "LsZUzl74G3w3",
        "outputId": "004e4852-abcd-433f-d6ed-adf07ba5fcbb"
      },
      "outputs": [
        {
          "output_type": "stream",
          "name": "stdout",
          "text": [
            "tf.Tensor(6.0, shape=(), dtype=float32)\n"
          ]
        }
      ],
      "source": [
        "x = tf.constant(3.0)\n",
        "with tf.GradientTape() as g:\n",
        "    g.watch(x)\n",
        "    y = x * x # x^2\n",
        "dy_dx = g.gradient(y, x) # Will compute to 6.0\n",
        "print(dy_dx)"
      ]
    },
    {
      "cell_type": "code",
      "execution_count": 9,
      "metadata": {
        "colab": {
          "base_uri": "https://localhost:8080/"
        },
        "id": "THLk_n5vG3w3",
        "outputId": "0490339f-9386-4735-bf4b-2be76c36aa2d"
      },
      "outputs": [
        {
          "output_type": "stream",
          "name": "stdout",
          "text": [
            "[<tf.Tensor: shape=(4, 3), dtype=float32, numpy=\n",
            "array([[ 0.06914607, -0.6509784 ,  0.5818323 ],\n",
            "       [-1.5221257 , -1.214863  ,  2.7369885 ],\n",
            "       [-1.2473829 , -1.7611003 ,  3.0084827 ],\n",
            "       [-1.2014607 , -1.8659232 ,  3.0673835 ]], dtype=float32)>, <tf.Tensor: shape=(3,), dtype=float32, numpy=array([-0.15212914, -0.342192  ,  0.49432108], dtype=float32)>]\n"
          ]
        }
      ],
      "source": [
        "def grad_fn(X, Y):\n",
        "    with tf.GradientTape() as tape:\n",
        "        loss = cost_fn(X, Y)\n",
        "        grads = tape.gradient(loss, variables)\n",
        "\n",
        "        return grads\n",
        "\n",
        "print(grad_fn(x_data, y_data))"
      ]
    },
    {
      "cell_type": "code",
      "execution_count": 10,
      "metadata": {
        "colab": {
          "base_uri": "https://localhost:8080/"
        },
        "id": "fP7JET_BG3w3",
        "outputId": "01848970-dafe-4b9c-eaa9-8d59808013c9"
      },
      "outputs": [
        {
          "output_type": "stream",
          "name": "stdout",
          "text": [
            "Loss at epoch 1: 2.849417\n",
            "Loss at epoch 100: 0.684151\n",
            "Loss at epoch 200: 0.613813\n",
            "Loss at epoch 300: 0.558204\n",
            "Loss at epoch 400: 0.508306\n",
            "Loss at epoch 500: 0.461058\n",
            "Loss at epoch 600: 0.415072\n",
            "Loss at epoch 700: 0.369636\n",
            "Loss at epoch 800: 0.324533\n",
            "Loss at epoch 900: 0.280721\n",
            "Loss at epoch 1000: 0.246752\n",
            "Loss at epoch 1100: 0.232798\n",
            "Loss at epoch 1200: 0.221645\n",
            "Loss at epoch 1300: 0.211476\n",
            "Loss at epoch 1400: 0.202164\n",
            "Loss at epoch 1500: 0.193606\n",
            "Loss at epoch 1600: 0.185714\n",
            "Loss at epoch 1700: 0.178415\n",
            "Loss at epoch 1800: 0.171645\n",
            "Loss at epoch 1900: 0.165351\n",
            "Loss at epoch 2000: 0.159483\n"
          ]
        }
      ],
      "source": [
        "def fit(X, Y, epochs=2000, verbose=100):\n",
        "    optimizer =  tf.keras.optimizers.SGD(learning_rate=0.1)\n",
        "\n",
        "    for i in range(epochs):\n",
        "        grads = grad_fn(X, Y)\n",
        "        optimizer.apply_gradients(zip(grads, variables))\n",
        "        if (i==0) | ((i+1)%verbose==0):\n",
        "            print('Loss at epoch %d: %f' %(i+1, cost_fn(X, Y).numpy()))\n",
        "            \n",
        "fit(x_data, y_data)"
      ]
    },
    {
      "cell_type": "markdown",
      "metadata": {
        "id": "HPGCCBsjG3w4"
      },
      "source": [
        "# Prediction Check"
      ]
    },
    {
      "cell_type": "code",
      "execution_count": 11,
      "metadata": {
        "colab": {
          "base_uri": "https://localhost:8080/"
        },
        "id": "xPaUTQCRG3w4",
        "outputId": "b0290dc5-c396-4d35-8527-380e00a77884"
      },
      "outputs": [
        {
          "output_type": "stream",
          "name": "stdout",
          "text": [
            "tf.Tensor([[0.00112886 0.08154673 0.9173244 ]], shape=(1, 3), dtype=float32)\n",
            "tf.Tensor([2], shape=(1,), dtype=int64)\n"
          ]
        }
      ],
      "source": [
        "sample_data = [[2,1,3,2]] # answer_label [[0,0,1]]\n",
        "sample_data = np.asarray(sample_data, dtype=np.float32)\n",
        "\n",
        "a = hypothesis(sample_data)\n",
        "\n",
        "print(a)\n",
        "print(tf.argmax(a, 1)) #index: 2"
      ]
    },
    {
      "cell_type": "code",
      "execution_count": 12,
      "metadata": {
        "colab": {
          "base_uri": "https://localhost:8080/"
        },
        "id": "WFkiy-NCG3w4",
        "outputId": "80e698bd-7381-4ad8-aebd-a4c69fe8f685"
      },
      "outputs": [
        {
          "output_type": "stream",
          "name": "stdout",
          "text": [
            "tf.Tensor(\n",
            "[[2.1976039e-06 1.2331199e-03 9.9876475e-01]\n",
            " [1.1288594e-03 8.1546724e-02 9.1732436e-01]\n",
            " [2.2205660e-07 1.6418649e-01 8.3581328e-01]\n",
            " [6.3921934e-06 8.5045439e-01 1.4953916e-01]\n",
            " [2.6150793e-01 7.2644734e-01 1.2044546e-02]\n",
            " [1.3783264e-01 8.6213988e-01 2.7417602e-05]\n",
            " [7.4242103e-01 2.5754192e-01 3.6978636e-05]\n",
            " [9.2197543e-01 7.8024052e-02 6.0005920e-07]], shape=(8, 3), dtype=float32)\n",
            "tf.Tensor([2 2 2 1 1 1 0 0], shape=(8,), dtype=int64)\n",
            "tf.Tensor([2 2 2 1 1 1 0 0], shape=(8,), dtype=int64)\n"
          ]
        }
      ],
      "source": [
        "b = hypothesis(x_data)\n",
        "print(b)\n",
        "print(tf.argmax(b, 1))\n",
        "print(tf.argmax(y_data, 1)) # matches with y_data"
      ]
    },
    {
      "cell_type": "markdown",
      "metadata": {
        "id": "5MT5KsN8G3w4"
      },
      "source": [
        "# Convert as Class"
      ]
    },
    {
      "cell_type": "code",
      "execution_count": 13,
      "metadata": {
        "colab": {
          "base_uri": "https://localhost:8080/"
        },
        "id": "mCEBrB_rG3w4",
        "outputId": "9a475853-c10d-40eb-c703-b53ed5bbcab1"
      },
      "outputs": [
        {
          "output_type": "stream",
          "name": "stdout",
          "text": [
            "Loss at epoch 1: 2.472669\n",
            "Loss at epoch 500: 0.375229\n",
            "Loss at epoch 1000: 0.229924\n",
            "Loss at epoch 1500: 0.182147\n",
            "Loss at epoch 2000: 0.150633\n"
          ]
        }
      ],
      "source": [
        "class softmax_classifer(tf.keras.Model):\n",
        "    def __init__(self, nb_classes):\n",
        "        super(softmax_classifer, self).__init__()\n",
        "        self.W = tf.Variable(tf.random.normal((4, nb_classes)), name='weight')\n",
        "        self.b = tf.Variable(tf.random.normal((nb_classes,)), name='bias')\n",
        "        \n",
        "    def softmax_regression(self, X):\n",
        "        return tf.nn.softmax(tf.matmul(X, self.W) + self.b)\n",
        "    \n",
        "    def cost_fn(self, X, Y):\n",
        "        logits = self.softmax_regression(X)\n",
        "        cost = tf.reduce_mean(-tf.reduce_sum(Y * tf.math.log(logits), axis=1))        \n",
        "        return cost\n",
        "    \n",
        "    def grad_fn(self, X, Y):\n",
        "        with tf.GradientTape() as tape:\n",
        "            cost = self.cost_fn(x_data, y_data)\n",
        "            grads = tape.gradient(cost, self.variables)            \n",
        "            return grads\n",
        "    \n",
        "    def fit(self, X, Y, epochs=2000, verbose=500):\n",
        "        optimizer =  tf.keras.optimizers.SGD(learning_rate=0.1)\n",
        "\n",
        "        for i in range(epochs):\n",
        "            grads = self.grad_fn(X, Y)\n",
        "            optimizer.apply_gradients(zip(grads, self.variables))\n",
        "            if (i==0) | ((i+1)%verbose==0):\n",
        "                print('Loss at epoch %d: %f' %(i+1, self.cost_fn(X, Y).numpy()))\n",
        "            \n",
        "model = softmax_classifer(nb_classes)\n",
        "model.fit(x_data, y_data)"
      ]
    }
  ],
  "metadata": {
    "kernelspec": {
      "display_name": "Python 3",
      "language": "python",
      "name": "python3"
    },
    "language_info": {
      "codemirror_mode": {
        "name": "ipython",
        "version": 3
      },
      "file_extension": ".py",
      "mimetype": "text/x-python",
      "name": "python",
      "nbconvert_exporter": "python",
      "pygments_lexer": "ipython3",
      "version": "3.7.3"
    },
    "colab": {
      "provenance": [],
      "collapsed_sections": [],
      "include_colab_link": true
    }
  },
  "nbformat": 4,
  "nbformat_minor": 0
}