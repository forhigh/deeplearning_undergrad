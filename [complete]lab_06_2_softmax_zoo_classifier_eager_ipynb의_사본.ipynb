{
  "cells": [
    {
      "cell_type": "markdown",
      "metadata": {
        "id": "view-in-github",
        "colab_type": "text"
      },
      "source": [
        "<a href=\"https://colab.research.google.com/github/forhigh/deeplearning_undergrad/blob/main/%5Bcomplete%5Dlab_06_2_softmax_zoo_classifier_eager_ipynb%EC%9D%98_%EC%82%AC%EB%B3%B8.ipynb\" target=\"_parent\"><img src=\"https://colab.research.google.com/assets/colab-badge.svg\" alt=\"Open In Colab\"/></a>"
      ]
    },
    {
      "cell_type": "markdown",
      "metadata": {
        "id": "j861SAKnHWrO"
      },
      "source": [
        "# Lab 06 Softmax Zoo_classifier-eager\n",
        "\n",
        "* Softmax를 사용하여 Zoo 데이터를 활용하여 분류를 진행합니다.\n",
        "\n",
        "### 기본 Library 선언 및 Tensorflow 버전 확인"
      ]
    },
    {
      "cell_type": "code",
      "execution_count": 1,
      "metadata": {
        "colab": {
          "base_uri": "https://localhost:8080/"
        },
        "id": "HL-nsZuiHWrR",
        "outputId": "8c86424f-ee5a-4820-d8f8-d651602dffa6"
      },
      "outputs": [
        {
          "output_type": "stream",
          "name": "stdout",
          "text": [
            "2.9.2\n"
          ]
        }
      ],
      "source": [
        "import tensorflow as tf\n",
        "import numpy as np\n",
        "\n",
        "print(tf.__version__)\n",
        "\n",
        "tf.random.set_seed(777)  # for reproducibility"
      ]
    },
    {
      "cell_type": "code",
      "execution_count": 2,
      "metadata": {
        "colab": {
          "base_uri": "https://localhost:8080/"
        },
        "id": "w3M1hZTbHWrS",
        "outputId": "5e84041b-5221-47ce-eb5e-9accd66718ed"
      },
      "outputs": [
        {
          "output_type": "stream",
          "name": "stdout",
          "text": [
            "Drive already mounted at /content/gdrive; to attempt to forcibly remount, call drive.mount(\"/content/gdrive\", force_remount=True).\n",
            "(101, 16) (101, 7)\n"
          ]
        }
      ],
      "source": [
        "from google.colab import drive\n",
        "drive.mount('/content/gdrive')\n",
        "\n",
        "xy = np.loadtxt(\"/content/gdrive/My Drive/Colab Notebooks/data-04-zoo.csv\", delimiter=',', dtype=np.float32)\n",
        "x_data = xy[:, 0:-1]\n",
        "y_data = xy[:, -1]\n",
        "\n",
        "nb_classes = 7  # 0 ~ 6\n",
        "\n",
        "# Make Y data as onehot shape\n",
        "Y_one_hot = tf.one_hot(y_data.astype(np.int32), nb_classes)\n",
        "\n",
        "print(x_data.shape, Y_one_hot.shape)"
      ]
    },
    {
      "cell_type": "code",
      "execution_count": 3,
      "metadata": {
        "id": "tDZRQmefHWrT"
      },
      "outputs": [],
      "source": [
        "#Weight and bias setting\n",
        "W = tf.Variable(tf.random.normal((16, nb_classes)), name='weight')\n",
        "b = tf.Variable(tf.random.normal((nb_classes,)), name='bias')\n",
        "variables = [W, b]\n",
        "\n",
        "# tf.nn.softmax computes softmax activations\n",
        "# softmax = exp(logits) / reduce_sum(exp(logits), dim)\n",
        "def logit_fn(X):\n",
        "    return tf.matmul(X, W) + b\n",
        "\n",
        "def hypothesis(X):\n",
        "    return tf.nn.softmax(logit_fn(X))\n",
        "\n",
        "def cost_fn(X, Y):\n",
        "    logits = logit_fn(X)\n",
        "    cost_i = tf.keras.losses.categorical_crossentropy(y_true=Y, y_pred=logits, \n",
        "                                                      from_logits=True)    \n",
        "    cost = tf.reduce_mean(cost_i)    \n",
        "    return cost\n",
        "\n",
        "def grad_fn(X, Y):\n",
        "    with tf.GradientTape() as tape:\n",
        "        loss = cost_fn(X, Y)\n",
        "        grads = tape.gradient(loss, variables)\n",
        "        return grads\n",
        "    \n",
        "def prediction(X, Y):\n",
        "    pred = tf.argmax(hypothesis(X), 1)\n",
        "    correct_prediction = tf.equal(pred, tf.argmax(Y, 1))\n",
        "    accuracy = tf.reduce_mean(tf.cast(correct_prediction, tf.float32))\n",
        "\n",
        "    return accuracy"
      ]
    },
    {
      "cell_type": "code",
      "execution_count": 4,
      "metadata": {
        "id": "vRSp2ZANHWrT",
        "colab": {
          "base_uri": "https://localhost:8080/"
        },
        "outputId": "44879050-d7c0-4dfb-925c-dc066cab665e"
      },
      "outputs": [
        {
          "output_type": "stream",
          "name": "stdout",
          "text": [
            "Steps: 1 Loss: 3.635028839111328, Acc: 0.1683168262243271\n",
            "Steps: 100 Loss: 0.5194157958030701, Acc: 0.7920792102813721\n",
            "Steps: 200 Loss: 0.31850090622901917, Acc: 0.9108911156654358\n",
            "Steps: 300 Loss: 0.23534876108169556, Acc: 0.9405940771102905\n",
            "Steps: 400 Loss: 0.18872138857841492, Acc: 0.9504950642585754\n",
            "Steps: 500 Loss: 0.158460333943367, Acc: 0.9504950642585754\n",
            "Steps: 600 Loss: 0.13703754544258118, Acc: 0.9900990128517151\n",
            "Steps: 700 Loss: 0.12098980695009232, Acc: 0.9900990128517151\n",
            "Steps: 800 Loss: 0.10847963392734528, Acc: 1.0\n",
            "Steps: 900 Loss: 0.09843041002750397, Acc: 1.0\n",
            "Steps: 1000 Loss: 0.09016557037830353, Acc: 1.0\n"
          ]
        }
      ],
      "source": [
        "def fit(X, Y, epochs=1000, verbose=100):\n",
        "    optimizer =  tf.keras.optimizers.SGD(learning_rate=0.1)\n",
        "\n",
        "    for i in range(epochs):\n",
        "        grads = grad_fn(X, Y)\n",
        "        optimizer.apply_gradients(zip(grads, variables))\n",
        "        if (i==0) | ((i+1)%verbose==0):\n",
        "#             print('Loss at epoch %d: %f' %(i+1, cost_fn(X, Y).numpy()))\n",
        "            acc = prediction(X, Y).numpy()\n",
        "            loss = cost_fn(X, Y).numpy() \n",
        "            print('Steps: {} Loss: {}, Acc: {}'.format(i+1, loss, acc))\n",
        "\n",
        "fit(x_data, Y_one_hot)"
      ]
    }
  ],
  "metadata": {
    "kernelspec": {
      "display_name": "Python 3",
      "language": "python",
      "name": "python3"
    },
    "language_info": {
      "codemirror_mode": {
        "name": "ipython",
        "version": 3
      },
      "file_extension": ".py",
      "mimetype": "text/x-python",
      "name": "python",
      "nbconvert_exporter": "python",
      "pygments_lexer": "ipython3",
      "version": "3.7.3"
    },
    "colab": {
      "provenance": [],
      "collapsed_sections": [],
      "include_colab_link": true
    }
  },
  "nbformat": 4,
  "nbformat_minor": 0
}