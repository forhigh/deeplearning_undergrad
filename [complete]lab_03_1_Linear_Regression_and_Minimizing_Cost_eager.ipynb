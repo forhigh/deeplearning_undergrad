{
  "cells": [
    {
      "cell_type": "markdown",
      "metadata": {
        "id": "view-in-github",
        "colab_type": "text"
      },
      "source": [
        "<a href=\"https://colab.research.google.com/github/forhigh/deeplearning_undergrad/blob/main/%5Bcomplete%5Dlab_03_1_Linear_Regression_and_Minimizing_Cost_eager.ipynb\" target=\"_parent\"><img src=\"https://colab.research.google.com/assets/colab-badge.svg\" alt=\"Open In Colab\"/></a>"
      ]
    },
    {
      "cell_type": "markdown",
      "metadata": {
        "id": "qa55_des11wj"
      },
      "source": [
        "# 03 - Linear-Regression-and-Minimizing-Cost\n",
        "\n",
        "<img width=\"200\" src=\"https://i.imgur.com/hbPVe1T.png\">\n"
      ]
    },
    {
      "cell_type": "code",
      "execution_count": 1,
      "metadata": {
        "colab": {
          "base_uri": "https://localhost:8080/"
        },
        "id": "BbOQ25cb11wl",
        "outputId": "78507394-cc1b-4536-ab27-19b170dc9d8b"
      },
      "outputs": [
        {
          "output_type": "stream",
          "name": "stdout",
          "text": [
            "2.9.2\n"
          ]
        }
      ],
      "source": [
        "import tensorflow as tf\n",
        "import numpy as np\n",
        "\n",
        "print(tf.__version__)"
      ]
    },
    {
      "cell_type": "markdown",
      "metadata": {
        "id": "gosQaP-B11wt"
      },
      "source": [
        "# Hypothesis and Cost\n",
        "\n",
        "$$ H(x) = Wx + b $$ \n",
        "\n",
        "$$ cost(W, b)=\\frac { 1 }{ m } \\sum _{i=1}^{m}{ { (H{ x }^{ i }-y^{ i } })^{ 2 } }  $$\n",
        "\n",
        "# Simplifed hypothesis\n",
        "\n",
        "$$ H(x) = Wx $$ \n",
        "\n",
        "$$ cost(W)=\\frac { 1 }{ m } \\sum _{i=1}^{m}{ { (W{ x }^{ i }-y^{ i } })^{ 2 } }  $$\n",
        "\n"
      ]
    },
    {
      "cell_type": "markdown",
      "metadata": {
        "id": "8_RLcYZe11wu"
      },
      "source": [
        "b를 W 행렬에 넣어 표현할 수 있기 때문에 생략 가능"
      ]
    },
    {
      "cell_type": "markdown",
      "metadata": {
        "id": "SgferLHt11ww"
      },
      "source": [
        "# Cost function\n",
        "$$ cost(W)=\\frac { 1 }{ m } \\sum _{i=1}^{m}{ { (W{ x }^{ i }-y^{ i } })^{ 2 } }  $$\n",
        "\n",
        "W = -1, cost(W) = 18.67\n",
        "$$ cost(W)=\\frac { 1 }{ 3 } ( (-1 * 1 - 1)^2 + (-1 * 2 - 2)^2 + (-1 * 3 - 3)^2) $$\n",
        "\n",
        "W = 0, cost(W) = 4.67\n",
        "$$ cost(W)=\\frac { 1 }{ 3 } ( (0 * 1 - 1)^2 + (0 * 2 - 2)^2 + (0 * 3 - 3)^2) $$\n",
        "\n",
        "W = 1, cost(W) = 0\n",
        "$$ cost(W)=\\frac { 1 }{ 3 } ( (1 * 1 - 1)^2 + (1 * 2 - 2)^2 + (1 * 3 - 3)^2) $$\n",
        "\n",
        "W = 2, cost(W) = 4.67\n",
        "$$ cost(W)=\\frac { 1 }{ 3 } ( (2 * 1 - 1)^2 + (2 * 2 - 2)^2 + (2 * 3 - 3)^2) $$\n"
      ]
    },
    {
      "cell_type": "markdown",
      "metadata": {
        "id": "jjICfKEk11wx"
      },
      "source": [
        "# Cost function in pure Python"
      ]
    },
    {
      "cell_type": "code",
      "execution_count": 2,
      "metadata": {
        "colab": {
          "base_uri": "https://localhost:8080/"
        },
        "id": "K-FN3gLt11wz",
        "outputId": "0d4091c2-389b-4ea0-f6dc-fc4236816662"
      },
      "outputs": [
        {
          "output_type": "stream",
          "name": "stdout",
          "text": [
            "-3.000 |   74.66667\n",
            "-2.429 |   54.85714\n",
            "-1.857 |   38.09524\n",
            "-1.286 |   24.38095\n",
            "-0.714 |   13.71429\n",
            "-0.143 |    6.09524\n",
            " 0.429 |    1.52381\n",
            " 1.000 |    0.00000\n",
            " 1.571 |    1.52381\n",
            " 2.143 |    6.09524\n",
            " 2.714 |   13.71429\n",
            " 3.286 |   24.38095\n",
            " 3.857 |   38.09524\n",
            " 4.429 |   54.85714\n",
            " 5.000 |   74.66667\n"
          ]
        }
      ],
      "source": [
        "import numpy as np\n",
        "\n",
        "X = np.array([1, 2, 3])\n",
        "Y = np.array([1, 2, 3])\n",
        "\n",
        "def cost_func(W, X, Y):\n",
        "    c = 0\n",
        "    for i in range(len(X)):\n",
        "        c += (W * X[i] - Y[i]) ** 2\n",
        "    return c / len(X)\n",
        "\n",
        "for feed_W in np.linspace(-3, 5, num=15):\n",
        "    curr_cost = cost_func(feed_W, X, Y)\n",
        "    print(\"{:6.3f} | {:10.5f}\".format(feed_W, curr_cost))"
      ]
    },
    {
      "cell_type": "markdown",
      "metadata": {
        "id": "r6i-reEG34GK"
      },
      "source": [
        "# Cost function in TensorFlow"
      ]
    },
    {
      "cell_type": "code",
      "execution_count": 3,
      "metadata": {
        "colab": {
          "base_uri": "https://localhost:8080/"
        },
        "id": "t0zWozvW4tza",
        "outputId": "47955f0b-f0d9-42f3-e334-cd6f5510a820"
      },
      "outputs": [
        {
          "output_type": "stream",
          "name": "stdout",
          "text": [
            "-3.000 |   74.66667\n",
            "-2.429 |   54.85714\n",
            "-1.857 |   38.09524\n",
            "-1.286 |   24.38095\n",
            "-0.714 |   13.71429\n",
            "-0.143 |    6.09524\n",
            " 0.429 |    1.52381\n",
            " 1.000 |    0.00000\n",
            " 1.571 |    1.52381\n",
            " 2.143 |    6.09524\n",
            " 2.714 |   13.71429\n",
            " 3.286 |   24.38095\n",
            " 3.857 |   38.09524\n",
            " 4.429 |   54.85714\n",
            " 5.000 |   74.66667\n"
          ]
        }
      ],
      "source": [
        "X = np.array([1, 2, 3])\n",
        "Y = np.array([1, 2, 3])\n",
        "\n",
        "def cost_func(W, X, Y):\n",
        "  hypothesis = X * W\n",
        "  return tf.reduce_mean(tf.square(hypothesis - Y))\n",
        "\n",
        "W_values = np.linspace(-3, 5, num=15)\n",
        "cost_values = []\n",
        "\n",
        "for feed_W in W_values:\n",
        "    curr_cost = cost_func(feed_W, X, Y)\n",
        "    cost_values.append(curr_cost)\n",
        "    print(\"{:6.3f} | {:10.5f}\".format(feed_W, curr_cost))"
      ]
    },
    {
      "cell_type": "code",
      "execution_count": 4,
      "metadata": {
        "id": "oFminhBFFlil"
      },
      "outputs": [],
      "source": [
        "import matplotlib.pyplot as plt\n",
        "plt.rcParams[\"figure.figsize\"] = (8,6)"
      ]
    },
    {
      "cell_type": "code",
      "execution_count": 5,
      "metadata": {
        "colab": {
          "base_uri": "https://localhost:8080/",
          "height": 388
        },
        "id": "_b7ootOQ8Bx-",
        "outputId": "c852c217-55a2-4219-dd06-501ae3e81f08"
      },
      "outputs": [
        {
          "output_type": "display_data",
          "data": {
            "text/plain": [
              "<Figure size 576x432 with 1 Axes>"
            ],
            "image/png": "[encoded data removed]"
          },
          "metadata": {
            "needs_background": "light"
          }
        }
      ],
      "source": [
        "import matplotlib.pyplot as plt\n",
        "\n",
        "plt.plot(W_values, cost_values, \"b\")\n",
        "plt.ylabel('Cost(W)')\n",
        "plt.xlabel('W')\n",
        "plt.show()"
      ]
    },
    {
      "cell_type": "markdown",
      "metadata": {
        "id": "mZsgJWKW11w_"
      },
      "source": [
        "# How to minimize cost?\n",
        "* 현재 데이터 X와 Y에 대해 W가 1일 때 cost 가 가장 작다\n",
        "* cost 가 최소가 되는 W를 어떻게 찾을 수 있을까?"
      ]
    },
    {
      "cell_type": "markdown",
      "metadata": {
        "id": "IMPZVD0o11xA"
      },
      "source": [
        "# Gradient descent algorithm\n",
        "* Minimize cost function\n",
        "* used many minimization problems\n",
        "* For a given cost (W, b), it will find W, b to minimize cost\n",
        "* It can be applied to more general function: cost (w1, w2, ...)"
      ]
    },
    {
      "cell_type": "markdown",
      "metadata": {
        "id": "-gFKqZ8111xC"
      },
      "source": [
        "# How does it work?\n",
        "* Start with initial guesses\n",
        " * Start at 0,0 (or any other value)\n",
        " * Keeping changing $W$ and $b$ a little bit to try and reduce $cost(W,b)$\n",
        "* Each time you change the parameters, you select the gradient which reduces $cost(W,b)$ the most possible \n",
        "* Repeat\n",
        "* Do so until you converge to a local minimum\n",
        "* Has an interesting property\n",
        " * Where you start can determine which minimum you end up\n",
        "\n",
        "http://www.holehouse.org/mlclass/01_02_Introduction_regression_analysis_and_gr.html"
      ]
    },
    {
      "cell_type": "markdown",
      "metadata": {
        "id": "cLq7dmOc11xD"
      },
      "source": [
        "# Formal definition\n",
        "$$ cost(W)=\\frac { 1 }{ m } \\sum _{i=1}^{m}{ { (W{ x }^{ i }-y^{ i } })^{ 2 } }  $$\n",
        "\n",
        "$$ \\Downarrow $$\n",
        "\n",
        "$$ cost(W)=\\frac { 1 }{ 2m } \\sum _{i=1}^{m}{ { (W{ x }^{ i }-y^{ i } })^{ 2 } }  $$\n",
        "\n",
        "* m 혹은 2m 나누는 것이 cost 최소화에 영향 없음\n",
        "* 제곱을 미분할 때, 2가 앞으로 나오면서 공식이 단순하게 되는 효과"
      ]
    },
    {
      "cell_type": "markdown",
      "metadata": {
        "id": "8jVtv-Up11xE"
      },
      "source": [
        "# Formal definition\n",
        "$$ cost(W)=\\frac { 1 }{ 2m } \\sum _{i=1}^{m}{ { (W{ x }^{ i }-y^{ i } })^{ 2 } }  $$\n",
        "\n",
        "$$ W:=W - \\alpha\\frac{ \\partial } {\\partial W } cost(W) $$\n",
        "\n",
        "* W = W - 변화량\n",
        "* 변화량 = 현 위치(W)에서 비용곡선의 기울기(=미분값) X $\\alpha$ <br> $\\alpha$ : learning rate (시도 간격)"
      ]
    },
    {
      "cell_type": "markdown",
      "metadata": {
        "id": "JCcthfl111xF"
      },
      "source": [
        "# Formal definition\n",
        "\n",
        "$$ W:=W - \\alpha\\frac{ \\partial } {\\partial W } \\frac { 1 }{ 2m } \\sum _{i=1}^{m}{ { (W{ x }^{ i }-y^{ i } })^{ 2 } } $$\n",
        "\n",
        "$$ W:=W-\\alpha \\frac { 1 }{ 2m } \\sum _{ i=1 }^{ m }{ { 2(W{ x }^{ i }-y^{ i } })x^{ i } }  $$\n",
        "\n",
        "$$ W:=W-\\alpha \\frac { 1 }{ m } \\sum _{ i=1 }^{ m }{ { (W{ x }^{ i }-y^{ i } })x^{ i } }  $$\n",
        "\n"
      ]
    },
    {
      "cell_type": "markdown",
      "metadata": {
        "id": "qb0l2j-g11xG"
      },
      "source": [
        "# Gradient descent algorithm\n",
        "$$ W:=W-\\alpha \\frac { 1 }{ m } \\sum _{ i=1 }^{ m }{ { (W{ x }^{ i }-y^{ i } })x^{ i } }  $$"
      ]
    },
    {
      "cell_type": "markdown",
      "metadata": {
        "id": "uK8NeKEj11xH"
      },
      "source": [
        "# Convex function\n",
        "<img width=\"40%\" src=\"http://i.imgur.com/TSKliup.png\" >\n",
        "<img width=\"40%\" src=\"http://i.imgur.com/GyCwshy.png\" >\n",
        "\n",
        "Gradient descent algorithm을 사용하려면, 비용함수 cost(W,b)가 Convex function 이어야 한다\n",
        "\n",
        "http://www.holehouse.org/mlclass/01_02_Introduction_regression_analysis_and_gr.html"
      ]
    },
    {
      "cell_type": "markdown",
      "metadata": {
        "id": "SIB932rR11xJ"
      },
      "source": [
        "# Gradient descent 구현"
      ]
    },
    {
      "cell_type": "code",
      "execution_count": 6,
      "metadata": {
        "id": "unkTKsHo-l-6"
      },
      "outputs": [],
      "source": [
        "tf.random.set_seed(0)  # for reproducibility"
      ]
    },
    {
      "cell_type": "code",
      "execution_count": 7,
      "metadata": {
        "colab": {
          "base_uri": "https://localhost:8080/"
        },
        "id": "s4PdNwqWMlFb",
        "outputId": "b936337a-ff78-479f-f13c-3b5bed28f6dc"
      },
      "outputs": [
        {
          "output_type": "stream",
          "name": "stdout",
          "text": [
            "    0 | 11716.3086 |  48.767971\n",
            "   10 |  4504.9126 |  30.619968\n",
            "   20 |  1732.1364 |  19.366755\n",
            "   30 |   666.0052 |  12.388859\n",
            "   40 |   256.0785 |   8.062004\n",
            "   50 |    98.4620 |   5.379007\n",
            "   60 |    37.8586 |   3.715335\n",
            "   70 |    14.5566 |   2.683725\n",
            "   80 |     5.5970 |   2.044044\n",
            "   90 |     2.1520 |   1.647391\n",
            "  100 |     0.8275 |   1.401434\n",
            "  110 |     0.3182 |   1.248922\n",
            "  120 |     0.1223 |   1.154351\n",
            "  130 |     0.0470 |   1.095710\n",
            "  140 |     0.0181 |   1.059348\n",
            "  150 |     0.0070 |   1.036801\n",
            "  160 |     0.0027 |   1.022819\n",
            "  170 |     0.0010 |   1.014150\n",
            "  180 |     0.0004 |   1.008774\n",
            "  190 |     0.0002 |   1.005441\n",
            "  200 |     0.0001 |   1.003374\n",
            "  210 |     0.0000 |   1.002092\n",
            "  220 |     0.0000 |   1.001297\n",
            "  230 |     0.0000 |   1.000804\n",
            "  240 |     0.0000 |   1.000499\n",
            "  250 |     0.0000 |   1.000309\n",
            "  260 |     0.0000 |   1.000192\n",
            "  270 |     0.0000 |   1.000119\n",
            "  280 |     0.0000 |   1.000074\n",
            "  290 |     0.0000 |   1.000046\n"
          ]
        }
      ],
      "source": [
        "x_data = [1., 2., 3., 4.]\n",
        "y_data = [1., 3., 5., 7.]\n",
        "\n",
        "W = tf.Variable(tf.random.normal((1,), -100., 100.))\n",
        "\n",
        "for step in range(300):\n",
        "    hypothesis = W * X\n",
        "    cost = tf.reduce_mean(tf.square(hypothesis - Y))\n",
        "\n",
        "    alpha = 0.01\n",
        "    gradient = tf.reduce_mean(tf.multiply(tf.multiply(W, X) - Y, X))\n",
        "    descent = W - tf.multiply(alpha, gradient)\n",
        "    W.assign(descent)\n",
        "    \n",
        "    if step % 10 == 0:\n",
        "        print('{:5} | {:10.4f} | {:10.6f}'.format(\n",
        "            step, cost.numpy(), W.numpy()[0]))\n",
        "        \n"
      ]
    },
    {
      "cell_type": "code",
      "execution_count": 8,
      "metadata": {
        "colab": {
          "base_uri": "https://localhost:8080/"
        },
        "id": "7uwjdzO9PziL",
        "outputId": "12e9fa9b-9c90-4d88-dbdd-5d90908bdb1e"
      },
      "outputs": [
        {
          "output_type": "stream",
          "name": "stdout",
          "text": [
            "tf.Tensor([5.0001483], shape=(1,), dtype=float32)\n",
            "tf.Tensor([2.5000741], shape=(1,), dtype=float32)\n"
          ]
        }
      ],
      "source": [
        "print(5.0 * W)\n",
        "print(2.5 * W)"
      ]
    },
    {
      "cell_type": "code",
      "execution_count": 9,
      "metadata": {
        "colab": {
          "base_uri": "https://localhost:8080/"
        },
        "id": "bdFpBmDmWsrD",
        "outputId": "546fad00-6c6e-4982-bf95-20c13d67b3f0"
      },
      "outputs": [
        {
          "output_type": "stream",
          "name": "stdout",
          "text": [
            "    0 |    74.6667 |   4.813334\n",
            "   10 |    28.7093 |   3.364572\n",
            "   20 |    11.0387 |   2.466224\n",
            "   30 |     4.2444 |   1.909177\n",
            "   40 |     1.6320 |   1.563762\n",
            "   50 |     0.6275 |   1.349578\n",
            "   60 |     0.2413 |   1.216766\n",
            "   70 |     0.0928 |   1.134412\n",
            "   80 |     0.0357 |   1.083346\n",
            "   90 |     0.0137 |   1.051681\n",
            "  100 |     0.0053 |   1.032047\n",
            "  110 |     0.0020 |   1.019871\n",
            "  120 |     0.0008 |   1.012322\n",
            "  130 |     0.0003 |   1.007641\n",
            "  140 |     0.0001 |   1.004738\n",
            "  150 |     0.0000 |   1.002938\n",
            "  160 |     0.0000 |   1.001822\n",
            "  170 |     0.0000 |   1.001130\n",
            "  180 |     0.0000 |   1.000700\n",
            "  190 |     0.0000 |   1.000434\n",
            "  200 |     0.0000 |   1.000269\n",
            "  210 |     0.0000 |   1.000167\n",
            "  220 |     0.0000 |   1.000103\n",
            "  230 |     0.0000 |   1.000064\n",
            "  240 |     0.0000 |   1.000040\n",
            "  250 |     0.0000 |   1.000025\n",
            "  260 |     0.0000 |   1.000015\n",
            "  270 |     0.0000 |   1.000009\n",
            "  280 |     0.0000 |   1.000006\n",
            "  290 |     0.0000 |   1.000004\n"
          ]
        }
      ],
      "source": [
        "x_data = [1., 2., 3., 4.]\n",
        "y_data = [1., 3., 5., 7.]\n",
        "\n",
        "W = tf.Variable([5.0])\n",
        "\n",
        "for step in range(300):\n",
        "    hypothesis = W * X\n",
        "    cost = tf.reduce_mean(tf.square(hypothesis - Y))\n",
        "\n",
        "    alpha = 0.01\n",
        "    gradient = tf.reduce_mean(tf.multiply(tf.multiply(W, X) - Y, X))\n",
        "    descent = W - tf.multiply(alpha, gradient)\n",
        "    W.assign(descent)\n",
        "    \n",
        "    if step % 10 == 0:\n",
        "        print('{:5} | {:10.4f} | {:10.6f}'.format(\n",
        "            step, cost.numpy(), W.numpy()[0]))\n",
        "        \n"
      ]
    },
    {
      "cell_type": "markdown",
      "metadata": {
        "id": "sWizNKZl11xO"
      },
      "source": [
        "# Liner regression Summary\n",
        "\n",
        "## 1) Hypothesis \n",
        "\n",
        "$$ H(x) = Wx + b $$\n",
        "\n",
        "## 2) Cost function\n",
        "\n",
        "$$ cost(W)=\\frac { 1 }{ m } \\sum _{i=1}^{m}{ { (W{ x }^{ i }-y^{ i } })^{ 2 } }  $$\n",
        "\n",
        "## 3) Gradient descent\n",
        "\n",
        "$$ W := W-\\alpha \\frac { \\partial  }{ \\partial W } cost(W) $$"
      ]
    },
    {
      "cell_type": "code",
      "execution_count": 9,
      "metadata": {
        "id": "zxYIUXtD-l-7"
      },
      "outputs": [],
      "source": []
    }
  ],
  "metadata": {
    "kernelspec": {
      "display_name": "Python 3",
      "language": "python",
      "name": "python3"
    },
    "language_info": {
      "codemirror_mode": {
        "name": "ipython",
        "version": 3
      },
      "file_extension": ".py",
      "mimetype": "text/x-python",
      "name": "python",
      "nbconvert_exporter": "python",
      "pygments_lexer": "ipython3",
      "version": "3.7.3"
    },
    "colab": {
      "provenance": [],
      "collapsed_sections": [],
      "include_colab_link": true
    }
  },
  "nbformat": 4,
  "nbformat_minor": 0
}