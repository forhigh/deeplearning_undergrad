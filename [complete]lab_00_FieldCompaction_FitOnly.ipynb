{
  "nbformat": 4,
  "nbformat_minor": 0,
  "metadata": {
    "colab": {
      "provenance": [],
      "authorship_tag": "ABX9TyP1064UT6qQ+HNAT/1pll5t",
      "include_colab_link": true
    },
    "kernelspec": {
      "name": "python3",
      "display_name": "Python 3"
    },
    "language_info": {
      "name": "python"
    }
  },
  "cells": [
    {
      "cell_type": "markdown",
      "metadata": {
        "id": "view-in-github",
        "colab_type": "text"
      },
      "source": [
        "<a href=\"https://colab.research.google.com/github/forhigh/deeplearning_undergrad/blob/main/%5BPreview%5DFieldCompaction_FitOnly.ipynb\" target=\"_parent\"><img src=\"https://colab.research.google.com/assets/colab-badge.svg\" alt=\"Open In Colab\"/></a>"
      ]
    },
    {
      "cell_type": "markdown",
      "source": [
        "# Deep Learning Preview\n",
        "Field Compaction of Open-Graded Aggregates\n",
        "Fit Only"
      ],
      "metadata": {
        "id": "fTq3zeQdC5Jk"
      }
    },
    {
      "cell_type": "markdown",
      "source": [
        "환경 준비"
      ],
      "metadata": {
        "id": "xqeHPku_DrgZ"
      }
    },
    {
      "cell_type": "code",
      "execution_count": 1,
      "metadata": {
        "id": "9oBxvCoyC2PU"
      },
      "outputs": [],
      "source": [
        "from tensorflow.keras.models import Sequential # 전체 라이브러리 중 일부 모듈만 호출\n",
        "from tensorflow.keras.layers import Dense\n",
        "import numpy as np # 넘파이 라이브러리를 np로 호출하도록 설정"
      ]
    },
    {
      "cell_type": "markdown",
      "source": [
        "데이터 준비"
      ],
      "metadata": {
        "id": "uL4TTDVZDvEX"
      }
    },
    {
      "cell_type": "code",
      "source": [
        "from google.colab import drive\n",
        "drive.mount('/content/gdrive')\n",
        "\n",
        "Data_set = np.loadtxt(\"/content/gdrive/My Drive/Colab Notebooks/FieldCompaction1.csv\", delimiter=',', dtype=np.float32)\n",
        "X = Data_set[:, 0:2]\n",
        "Y = Data_set[:, 2:5]"
      ],
      "metadata": {
        "colab": {
          "base_uri": "https://localhost:8080/"
        },
        "id": "dgFulJunDxLE",
        "outputId": "2217dc52-06dd-48b9-fdbe-fcaf9f6fa43c"
      },
      "execution_count": 2,
      "outputs": [
        {
          "output_type": "stream",
          "name": "stdout",
          "text": [
            "Drive already mounted at /content/gdrive; to attempt to forcibly remount, call drive.mount(\"/content/gdrive\", force_remount=True).\n"
          ]
        }
      ]
    },
    {
      "cell_type": "markdown",
      "source": [
        "딥러닝 모델 구조 결정"
      ],
      "metadata": {
        "id": "W1p2SpejQs2Z"
      }
    },
    {
      "cell_type": "code",
      "source": [
        "model = Sequential()\n",
        "model.add(Dense(30, input_dim=2, activation='relu'))\n",
        "model.add(Dense(3))\n",
        "model.summary()"
      ],
      "metadata": {
        "colab": {
          "base_uri": "https://localhost:8080/"
        },
        "id": "As03Q157Qxfr",
        "outputId": "8f806357-5eba-4434-fe98-981a83e92a4c"
      },
      "execution_count": 3,
      "outputs": [
        {
          "output_type": "stream",
          "name": "stdout",
          "text": [
            "Model: \"sequential\"\n",
            "_________________________________________________________________\n",
            " Layer (type)                Output Shape              Param #   \n",
            "=================================================================\n",
            " dense (Dense)               (None, 30)                90        \n",
            "                                                                 \n",
            " dense_1 (Dense)             (None, 3)                 93        \n",
            "                                                                 \n",
            "=================================================================\n",
            "Total params: 183\n",
            "Trainable params: 183\n",
            "Non-trainable params: 0\n",
            "_________________________________________________________________\n"
          ]
        }
      ]
    },
    {
      "cell_type": "markdown",
      "source": [
        "모델 실행 (Fitting)"
      ],
      "metadata": {
        "id": "h4j5177gRlO5"
      }
    },
    {
      "cell_type": "code",
      "source": [
        "model.compile(loss='mean_squared_error', optimizer='adam')\n",
        "history = model.fit(X, Y, epochs=20)"
      ],
      "metadata": {
        "colab": {
          "base_uri": "https://localhost:8080/"
        },
        "id": "MqLsJD_wRoSr",
        "outputId": "10fc71c4-d316-4c2c-8b93-19e39eb61280"
      },
      "execution_count": 4,
      "outputs": [
        {
          "output_type": "stream",
          "name": "stdout",
          "text": [
            "Epoch 1/20\n",
            "3/3 [==============================] - 0s 4ms/step - loss: 5352.7856\n",
            "Epoch 2/20\n",
            "3/3 [==============================] - 0s 5ms/step - loss: 5335.4194\n",
            "Epoch 3/20\n",
            "3/3 [==============================] - 0s 5ms/step - loss: 5316.6567\n",
            "Epoch 4/20\n",
            "3/3 [==============================] - 0s 4ms/step - loss: 5299.0781\n",
            "Epoch 5/20\n",
            "3/3 [==============================] - 0s 4ms/step - loss: 5280.7930\n",
            "Epoch 6/20\n",
            "3/3 [==============================] - 0s 6ms/step - loss: 5262.8823\n",
            "Epoch 7/20\n",
            "3/3 [==============================] - 0s 4ms/step - loss: 5244.5371\n",
            "Epoch 8/20\n",
            "3/3 [==============================] - 0s 5ms/step - loss: 5226.2920\n",
            "Epoch 9/20\n",
            "3/3 [==============================] - 0s 5ms/step - loss: 5207.1377\n",
            "Epoch 10/20\n",
            "3/3 [==============================] - 0s 5ms/step - loss: 5188.4536\n",
            "Epoch 11/20\n",
            "3/3 [==============================] - 0s 5ms/step - loss: 5169.7959\n",
            "Epoch 12/20\n",
            "3/3 [==============================] - 0s 5ms/step - loss: 5150.8447\n",
            "Epoch 13/20\n",
            "3/3 [==============================] - 0s 5ms/step - loss: 5131.5532\n",
            "Epoch 14/20\n",
            "3/3 [==============================] - 0s 5ms/step - loss: 5111.9663\n",
            "Epoch 15/20\n",
            "3/3 [==============================] - 0s 6ms/step - loss: 5092.1318\n",
            "Epoch 16/20\n",
            "3/3 [==============================] - 0s 5ms/step - loss: 5072.2671\n",
            "Epoch 17/20\n",
            "3/3 [==============================] - 0s 5ms/step - loss: 5052.2588\n",
            "Epoch 18/20\n",
            "3/3 [==============================] - 0s 5ms/step - loss: 5031.3750\n",
            "Epoch 19/20\n",
            "3/3 [==============================] - 0s 5ms/step - loss: 5010.8276\n",
            "Epoch 20/20\n",
            "3/3 [==============================] - 0s 5ms/step - loss: 4990.1968\n"
          ]
        }
      ]
    }
  ]
}
